{
  "cells": [
    {
      "cell_type": "markdown",
      "metadata": {
        "id": "view-in-github",
        "colab_type": "text"
      },
      "source": [
        "<a href=\"https://colab.research.google.com/github/umiSirya/General-Data-analysis/blob/main/Numpy3_.ipynb\" target=\"_parent\"><img src=\"https://colab.research.google.com/assets/colab-badge.svg\" alt=\"Open In Colab\"/></a>"
      ]
    },
    {
      "cell_type": "markdown",
      "metadata": {
        "id": "3u_7v7kSPbYV"
      },
      "source": [
        "# Numpy Exercise 3\n",
        "\n",
        "### All of the questions in this exercise are attributed to rougier/numpy-100"
      ]
    },
    {
      "cell_type": "code",
      "execution_count": null,
      "metadata": {
        "id": "xog9h3bpPbYc"
      },
      "outputs": [],
      "source": []
    },
    {
      "cell_type": "markdown",
      "metadata": {
        "id": "UiUXCP2vPbYd"
      },
      "source": [
        "#### 31. How to ignore all numpy warnings (not recommended)? (★☆☆)"
      ]
    },
    {
      "cell_type": "code",
      "execution_count": 1,
      "metadata": {
        "colab": {
          "base_uri": "https://localhost:8080/"
        },
        "id": "FOZDtdPePbYf",
        "outputId": "70dc1ff7-af2a-4711-f841-beae781795aa"
      },
      "outputs": [
        {
          "output_type": "stream",
          "name": "stdout",
          "text": [
            "Result: [1.  0.5 inf]\n"
          ]
        }
      ],
      "source": [
        "import warnings\n",
        "import numpy as np\n",
        "\n",
        "# Suppress all warnings\n",
        "warnings.filterwarnings(\"ignore\")\n",
        "np.seterr(all='ignore')  # Ignore all NumPy-specific warnings\n",
        "\n",
        "# Example: Division by zero\n",
        "array = np.array([1, 2, 0])\n",
        "result = 1 / array  # Normally this would generate a RuntimeWarning\n",
        "\n",
        "print(\"Result:\", result)\n"
      ]
    },
    {
      "cell_type": "markdown",
      "metadata": {
        "id": "I45-StKXPbYf"
      },
      "source": [
        "#### 32. Is the following expressions true? (★☆☆)\n",
        "```python\n",
        "np.sqrt(-1) == np.emath.sqrt(-1)\n",
        "```"
      ]
    },
    {
      "cell_type": "code",
      "execution_count": 4,
      "metadata": {
        "colab": {
          "base_uri": "https://localhost:8080/"
        },
        "id": "Ng3KEZYqPbYg",
        "outputId": "d980ec77-d338-47c3-9353-c66c53d61533"
      },
      "outputs": [
        {
          "output_type": "execute_result",
          "data": {
            "text/plain": [
              "False"
            ]
          },
          "metadata": {},
          "execution_count": 4
        }
      ],
      "source": [
        "np.sqrt(-1) == np.emath.sqrt(-1)"
      ]
    },
    {
      "cell_type": "markdown",
      "metadata": {
        "id": "LRRQXC_9PbYh"
      },
      "source": [
        "#### 33. How to get the dates of yesterday, today and tomorrow? (★☆☆)"
      ]
    },
    {
      "cell_type": "code",
      "execution_count": 5,
      "metadata": {
        "colab": {
          "base_uri": "https://localhost:8080/"
        },
        "id": "cdEsO7T7PbYi",
        "outputId": "55c0b9de-9478-45a7-cc45-a8c98436ca49"
      },
      "outputs": [
        {
          "output_type": "stream",
          "name": "stdout",
          "text": [
            "Yesterday: 2024-11-15\n",
            "Today: 2024-11-16\n",
            "Tomorrow: 2024-11-17\n"
          ]
        }
      ],
      "source": [
        "from datetime import datetime, timedelta\n",
        "\n",
        "# Get today's date\n",
        "today = datetime.now().date()\n",
        "\n",
        "# Calculate yesterday and tomorrow\n",
        "yesterday = today - timedelta(days=1)\n",
        "tomorrow = today + timedelta(days=1)\n",
        "\n",
        "print(\"Yesterday:\", yesterday)\n",
        "print(\"Today:\", today)\n",
        "print(\"Tomorrow:\", tomorrow)"
      ]
    },
    {
      "cell_type": "markdown",
      "metadata": {
        "id": "zeK6iqYcPbYj"
      },
      "source": [
        "#### 34. How to get all the dates corresponding to the month of July 2016? (★★☆)"
      ]
    },
    {
      "cell_type": "code",
      "execution_count": 7,
      "metadata": {
        "colab": {
          "base_uri": "https://localhost:8080/"
        },
        "id": "iCgOfzgCPbYj",
        "outputId": "ef2ed247-3f57-41cd-a7f9-c12cee983760"
      },
      "outputs": [
        {
          "output_type": "stream",
          "name": "stdout",
          "text": [
            "2016-07-01\n",
            "2016-07-02\n",
            "2016-07-03\n",
            "2016-07-04\n",
            "2016-07-05\n",
            "2016-07-06\n",
            "2016-07-07\n",
            "2016-07-08\n",
            "2016-07-09\n",
            "2016-07-10\n",
            "2016-07-11\n",
            "2016-07-12\n",
            "2016-07-13\n",
            "2016-07-14\n",
            "2016-07-15\n",
            "2016-07-16\n",
            "2016-07-17\n",
            "2016-07-18\n",
            "2016-07-19\n",
            "2016-07-20\n",
            "2016-07-21\n",
            "2016-07-22\n",
            "2016-07-23\n",
            "2016-07-24\n",
            "2016-07-25\n",
            "2016-07-26\n",
            "2016-07-27\n",
            "2016-07-28\n",
            "2016-07-29\n",
            "2016-07-30\n",
            "2016-07-31\n"
          ]
        }
      ],
      "source": [
        "from datetime import date, timedelta\n",
        "\n",
        "# Define the start and end dates for July 2016\n",
        "start_date = date(2016, 7, 1)\n",
        "end_date = date(2016, 7, 31)\n",
        "\n",
        "# Generate all dates in July 2016\n",
        "current_date = start_date\n",
        "while current_date <= end_date:\n",
        "    print(current_date)\n",
        "    current_date += timedelta(days=1)\n"
      ]
    },
    {
      "cell_type": "markdown",
      "metadata": {
        "id": "TCt62JT-PbYk"
      },
      "source": [
        "#### 35. How to compute ((A+B)*(-A/2)) in place (without copy)? (★★☆)"
      ]
    },
    {
      "cell_type": "code",
      "execution_count": 8,
      "metadata": {
        "colab": {
          "base_uri": "https://localhost:8080/"
        },
        "id": "rQ4TkIBEPbYk",
        "outputId": "d3ce7a9b-5382-493f-c4f4-eecb611ccef7"
      },
      "outputs": [
        {
          "output_type": "stream",
          "name": "stdout",
          "text": [
            "Result: [-0. -2. -6.]\n"
          ]
        }
      ],
      "source": [
        "import numpy as np\n",
        "\n",
        "\n",
        "A = np.array([2.0, 4.0, 6.0])\n",
        "B = np.array([1.0, 3.0, 5.0])\n",
        "\n",
        "\n",
        "A /= -2  # Divide A by -2 in place\n",
        "B += A   # Add A (modified) to B in place\n",
        "B *= A   # Multiply the result by A (modified) in place\n",
        "\n",
        "# Result is stored in B\n",
        "print(\"Result:\", B)"
      ]
    },
    {
      "cell_type": "markdown",
      "metadata": {
        "id": "RQAvflXBPbYl"
      },
      "source": [
        "#### 36. Extract the integer part of a random array of positive numbers using 4 different methods (★★☆)"
      ]
    },
    {
      "cell_type": "code",
      "execution_count": 9,
      "metadata": {
        "colab": {
          "base_uri": "https://localhost:8080/"
        },
        "id": "GuCu9t-SPbYl",
        "outputId": "cff04e9b-db18-4217-cc4c-8e5b87baa244"
      },
      "outputs": [
        {
          "output_type": "stream",
          "name": "stdout",
          "text": [
            "Original Array: [56.87409731 21.5029509  36.46907913  6.56640449 13.20439651 14.50124564\n",
            " 89.53556875 77.86302212  9.23125234 16.34955921]\n",
            "Method 1 (np.floor): [56 21 36  6 13 14 89 77  9 16]\n"
          ]
        }
      ],
      "source": [
        "random_array = np.random.uniform(0, 100, size=10)  # Array of 10 random numbers between 0 and 100\n",
        "print(\"Original Array:\", random_array)\n",
        "\n",
        "# Using np.floor\n",
        "integer_part_floor = np.floor(random_array).astype(int)\n",
        "print(\"Method 1 (np.floor):\", integer_part_floor)"
      ]
    },
    {
      "cell_type": "markdown",
      "metadata": {
        "id": "r1CJ2X85PbYl"
      },
      "source": [
        "#### 37. Create a 5x5 matrix with row values ranging from 0 to 4 (★★☆)"
      ]
    },
    {
      "cell_type": "code",
      "execution_count": 10,
      "metadata": {
        "colab": {
          "base_uri": "https://localhost:8080/"
        },
        "id": "CiLgD_unPbYm",
        "outputId": "7afb989d-2fe9-4d2e-8308-fa3249ecbd9c"
      },
      "outputs": [
        {
          "output_type": "stream",
          "name": "stdout",
          "text": [
            "[[0 1 2 3 4]\n",
            " [0 1 2 3 4]\n",
            " [0 1 2 3 4]\n",
            " [0 1 2 3 4]\n",
            " [0 1 2 3 4]]\n"
          ]
        }
      ],
      "source": [
        "matrix = np.tile(np.arange(5), (5, 1))\n",
        "print(matrix)"
      ]
    },
    {
      "cell_type": "markdown",
      "metadata": {
        "id": "C0RrVPkXPbYm"
      },
      "source": [
        "#### 38. Consider a generator function that generates 10 integers and use it to build an array (★☆☆)"
      ]
    },
    {
      "cell_type": "code",
      "execution_count": 11,
      "metadata": {
        "colab": {
          "base_uri": "https://localhost:8080/"
        },
        "id": "ZOPUwCumPbYn",
        "outputId": "eeec2f4b-72e7-4246-eff3-84f0d9b1463f"
      },
      "outputs": [
        {
          "output_type": "stream",
          "name": "stdout",
          "text": [
            "Generated Array: [0 1 2 3 4 5 6 7 8 9]\n"
          ]
        }
      ],
      "source": [
        "def generate_integers():\n",
        "    for i in range(10):\n",
        "        yield i  # Generate integers from 0 to 9\n",
        "\n",
        "# Use the generator to create a NumPy array\n",
        "generator = generate_integers()\n",
        "array = np.fromiter(generator, dtype=int)\n",
        "\n",
        "print(\"Generated Array:\", array)"
      ]
    },
    {
      "cell_type": "markdown",
      "metadata": {
        "id": "x7OGnhC9PbYn"
      },
      "source": [
        "#### 39. Create a vector of size 10 with values ranging from 0 to 1, both excluded (★★☆)"
      ]
    },
    {
      "cell_type": "code",
      "execution_count": 12,
      "metadata": {
        "colab": {
          "base_uri": "https://localhost:8080/"
        },
        "id": "4YnUoTsdPbYo",
        "outputId": "ef40ffa9-a0fd-42b0-ea4d-5c0e3aa70003"
      },
      "outputs": [
        {
          "output_type": "stream",
          "name": "stdout",
          "text": [
            "Vector: [0.08333333 0.16666667 0.25       0.33333333 0.41666667 0.5\n",
            " 0.58333333 0.66666667 0.75       0.83333333]\n"
          ]
        }
      ],
      "source": [
        "vector = np.linspace(0, 1, num=12, endpoint=False)[1:-1]  # Exclude 0 and 1\n",
        "print(\"Vector:\", vector)"
      ]
    },
    {
      "cell_type": "markdown",
      "metadata": {
        "id": "AWk6ISAYPbYo"
      },
      "source": [
        "#### 40. Create a random vector of size 10 and sort it (★★☆)"
      ]
    },
    {
      "cell_type": "code",
      "execution_count": 13,
      "metadata": {
        "colab": {
          "base_uri": "https://localhost:8080/"
        },
        "id": "CESeqGnDPbYo",
        "outputId": "66e9089a-b327-44cb-81ce-8ded228a851a"
      },
      "outputs": [
        {
          "output_type": "stream",
          "name": "stdout",
          "text": [
            "Random Vector: [0.09884708 0.48746069 0.70992582 0.93922717 0.81166417 0.86519394\n",
            " 0.2514125  0.66113768 0.43266375 0.8277466 ]\n",
            "Sorted Vector: [0.09884708 0.2514125  0.43266375 0.48746069 0.66113768 0.70992582\n",
            " 0.81166417 0.8277466  0.86519394 0.93922717]\n"
          ]
        }
      ],
      "source": [
        "random_vector = np.random.rand(10)  # Generates 10 random values in the range [0, 1)\n",
        "\n",
        "# Sort the vector\n",
        "sorted_vector = np.sort(random_vector)\n",
        "\n",
        "print(\"Random Vector:\", random_vector)\n",
        "print(\"Sorted Vector:\", sorted_vector)"
      ]
    },
    {
      "cell_type": "markdown",
      "metadata": {
        "id": "yh6dr5IKPbYp"
      },
      "source": [
        "#### 41. How to sum a small array faster than np.sum? (★★☆)"
      ]
    },
    {
      "cell_type": "code",
      "execution_count": 14,
      "metadata": {
        "colab": {
          "base_uri": "https://localhost:8080/"
        },
        "id": "HEAF0kGbPbYp",
        "outputId": "52cca33b-263a-42d0-eb86-b6276a57e744"
      },
      "outputs": [
        {
          "output_type": "stream",
          "name": "stdout",
          "text": [
            "Sum using built-in sum(): 15\n"
          ]
        }
      ],
      "source": [
        "array = np.array([1, 2, 3, 4, 5])\n",
        "\n",
        "\n",
        "result = sum(array)\n",
        "print(\"Sum using built-in sum():\", result)"
      ]
    },
    {
      "cell_type": "markdown",
      "metadata": {
        "id": "rgP1taikPbYp"
      },
      "source": [
        "#### 42. Consider two random array A and B, check if they are equal (★★☆)"
      ]
    },
    {
      "cell_type": "code",
      "execution_count": 15,
      "metadata": {
        "colab": {
          "base_uri": "https://localhost:8080/"
        },
        "id": "lFDiPDXJPbYp",
        "outputId": "6dd667a1-d2c8-4368-b8ee-ed5cc507f541"
      },
      "outputs": [
        {
          "output_type": "stream",
          "name": "stdout",
          "text": [
            "Array A: [0.32683947 0.40019281 0.80200603 0.05223469 0.45700071]\n",
            "Array B: [0.54190162 0.41504883 0.7104644  0.11363547 0.45583549]\n",
            "Are A and B equal? False\n"
          ]
        }
      ],
      "source": [
        "A = np.random.rand(5)  # Random array of size 5\n",
        "B = np.random.rand(5)  # Another random array of size 5\n",
        "\n",
        "# Check if arrays are equal\n",
        "are_equal = np.array_equal(A, B)\n",
        "\n",
        "print(\"Array A:\", A)\n",
        "print(\"Array B:\", B)\n",
        "print(\"Are A and B equal?\", are_equal)"
      ]
    },
    {
      "cell_type": "markdown",
      "metadata": {
        "id": "PHLNDu8hPbYq"
      },
      "source": [
        "#### 43. Make an array immutable (read-only) (★★☆)"
      ]
    },
    {
      "cell_type": "code",
      "execution_count": 16,
      "metadata": {
        "colab": {
          "base_uri": "https://localhost:8080/"
        },
        "id": "iM98r_vUPbYq",
        "outputId": "06706c93-262f-4639-b67d-d4646805d778"
      },
      "outputs": [
        {
          "output_type": "stream",
          "name": "stdout",
          "text": [
            "Error: assignment destination is read-only\n",
            "Array: [0.03937416 0.40204722 0.49650099 0.26281119 0.84433567]\n"
          ]
        }
      ],
      "source": [
        "array = np.random.rand(5)\n",
        "\n",
        "# Make the array immutable\n",
        "array.setflags(write=False)\n",
        "\n",
        "# Try modifying the array (this will raise an error)\n",
        "try:\n",
        "    array[0] = 10  # Attempt to modify the array\n",
        "except ValueError as e:\n",
        "    print(\"Error:\", e)\n",
        "\n",
        "print(\"Array:\", array)"
      ]
    },
    {
      "cell_type": "markdown",
      "metadata": {
        "id": "LPb_uXjTPbYq"
      },
      "source": [
        "#### 44. Consider a random 10x2 matrix representing cartesian coordinates, convert them to polar coordinates (★★☆)"
      ]
    },
    {
      "cell_type": "code",
      "execution_count": 17,
      "metadata": {
        "colab": {
          "base_uri": "https://localhost:8080/"
        },
        "id": "r1dopT1TPbYq",
        "outputId": "d6f7f750-97f7-4ddc-8066-2d59e4b9f646"
      },
      "outputs": [
        {
          "output_type": "stream",
          "name": "stdout",
          "text": [
            "Cartesian Coordinates (x, y):\n",
            "[[-0.45411279 -0.15606376]\n",
            " [ 1.44639872  0.25233228]\n",
            " [-1.88837323  0.92667276]\n",
            " [ 1.77975242  0.06030279]\n",
            " [-1.05530688  0.46096468]\n",
            " [ 0.81378263  1.46693614]\n",
            " [ 0.36399454  0.33099359]\n",
            " [ 0.6693826   0.97057745]\n",
            " [-1.64975336 -0.53387705]\n",
            " [-0.26688922  0.75416794]]\n",
            "\n",
            "Polar Coordinates (r, θ):\n",
            "[[ 0.48018155 -2.81057045]\n",
            " [ 1.46824413  0.17271734]\n",
            " [ 2.10349135  2.68539219]\n",
            " [ 1.78077373  0.03386973]\n",
            " [ 1.15159066  2.72976463]\n",
            " [ 1.677541    1.0643137 ]\n",
            " [ 0.49198454  0.7379496 ]\n",
            " [ 1.17902233  0.96703384]\n",
            " [ 1.73398698 -2.82861827]\n",
            " [ 0.79999946  1.91092855]]\n"
          ]
        }
      ],
      "source": [
        "# Generate a random 10x2 matrix representing Cartesian coordinates\n",
        "cartesian_coords = np.random.randn(10, 2)\n",
        "\n",
        "# Convert Cartesian coordinates to Polar coordinates\n",
        "r = np.sqrt(cartesian_coords[:, 0]**2 + cartesian_coords[:, 1]**2)  # radius\n",
        "theta = np.arctan2(cartesian_coords[:, 1], cartesian_coords[:, 0])  # angle\n",
        "\n",
        "# Stack the results into a 10x2 matrix for polar coordinates\n",
        "polar_coords = np.column_stack((r, theta))\n",
        "\n",
        "# Output the Cartesian and Polar coordinates\n",
        "print(\"Cartesian Coordinates (x, y):\")\n",
        "print(cartesian_coords)\n",
        "print(\"\\nPolar Coordinates (r, θ):\")\n",
        "print(polar_coords)"
      ]
    },
    {
      "cell_type": "markdown",
      "metadata": {
        "id": "jhWI28FdPbYr"
      },
      "source": [
        "#### 45. Create random vector of size 10 and replace the maximum value by 0 (★★☆)"
      ]
    },
    {
      "cell_type": "code",
      "execution_count": 18,
      "metadata": {
        "colab": {
          "base_uri": "https://localhost:8080/"
        },
        "id": "OsJmQhozPbYr",
        "outputId": "77986e27-3c33-4f30-9f36-1c53f89c3c12"
      },
      "outputs": [
        {
          "output_type": "stream",
          "name": "stdout",
          "text": [
            "Random Vector with Maximum Value Replaced by 0:\n",
            "[ 0.         -1.31733975  0.05123976  0.26977022 -0.10360591  0.90813935\n",
            " -1.2643179  -1.82646371  0.08735855  0.79193805]\n"
          ]
        }
      ],
      "source": [
        "# Generate a random vector of size 10\n",
        "random_vector = np.random.randn(10)\n",
        "\n",
        "# Find the index of the maximum value\n",
        "max_index = np.argmax(random_vector)\n",
        "\n",
        "# Replace the maximum value with 0\n",
        "random_vector[max_index] = 0\n",
        "\n",
        "# Output the result\n",
        "print(\"Random Vector with Maximum Value Replaced by 0:\")\n",
        "print(random_vector)"
      ]
    }
  ],
  "metadata": {
    "kernelspec": {
      "display_name": "Python 3",
      "language": "python",
      "name": "python3"
    },
    "language_info": {
      "codemirror_mode": {
        "name": "ipython",
        "version": 3
      },
      "file_extension": ".py",
      "mimetype": "text/x-python",
      "name": "python",
      "nbconvert_exporter": "python",
      "pygments_lexer": "ipython3",
      "version": "3.7.4"
    },
    "colab": {
      "provenance": [],
      "include_colab_link": true
    }
  },
  "nbformat": 4,
  "nbformat_minor": 0
}