{
  "cells": [
    {
      "cell_type": "markdown",
      "metadata": {
        "id": "view-in-github",
        "colab_type": "text"
      },
      "source": [
        "<a href=\"https://colab.research.google.com/github/umiSirya/General-Data-analysis/blob/main/Numpy1.1.ipynb\" target=\"_parent\"><img src=\"https://colab.research.google.com/assets/colab-badge.svg\" alt=\"Open In Colab\"/></a>"
      ]
    },
    {
      "cell_type": "markdown",
      "metadata": {
        "id": "C_FJ0HykrdzX"
      },
      "source": [
        "# Numpy Exercise 1\n",
        "\n",
        "### All of the questions in this exercise are attributed to rougier/numpy-100"
      ]
    },
    {
      "cell_type": "code",
      "execution_count": null,
      "metadata": {
        "id": "a7urGPufrdzZ"
      },
      "outputs": [],
      "source": []
    },
    {
      "cell_type": "markdown",
      "metadata": {
        "id": "anulPEh0rdzZ"
      },
      "source": [
        "#### 1. Import the numpy package under the name `np` (★☆☆)"
      ]
    },
    {
      "cell_type": "code",
      "execution_count": 1,
      "metadata": {
        "id": "SNwVpIsrrdzZ"
      },
      "outputs": [],
      "source": [
        "import numpy as np"
      ]
    },
    {
      "cell_type": "markdown",
      "metadata": {
        "id": "Nx0Ahta5rdza"
      },
      "source": [
        "#### 2. Print the numpy version and the configuration (★☆☆)"
      ]
    },
    {
      "cell_type": "code",
      "execution_count": null,
      "metadata": {
        "id": "OywBXUbgrdza"
      },
      "outputs": [],
      "source": [
        "np.__version__"
      ]
    },
    {
      "cell_type": "markdown",
      "metadata": {
        "id": "_yRn8G6Zrdza"
      },
      "source": [
        "#### 3. Create a null vector of size 10 (★☆☆)"
      ]
    },
    {
      "cell_type": "code",
      "execution_count": 22,
      "metadata": {
        "colab": {
          "base_uri": "https://localhost:8080/"
        },
        "id": "79QplhgPrdza",
        "outputId": "7697b4ef-9aa5-4a4e-aca5-0ba5feb49db8"
      },
      "outputs": [
        {
          "output_type": "execute_result",
          "data": {
            "text/plain": [
              "array([0., 0., 0., 0., 0., 0., 0., 0., 0., 0.])"
            ]
          },
          "metadata": {},
          "execution_count": 22
        }
      ],
      "source": [
        "null_vector = np.zeros(10)\n",
        "null_vector"
      ]
    },
    {
      "cell_type": "markdown",
      "source": [],
      "metadata": {
        "id": "kUkLcCVPEZdp"
      }
    },
    {
      "cell_type": "markdown",
      "metadata": {
        "id": "AsDs7LBHrdza"
      },
      "source": [
        "#### 4. How to find the memory size of any array (★☆☆)"
      ]
    },
    {
      "cell_type": "code",
      "execution_count": 6,
      "metadata": {
        "colab": {
          "base_uri": "https://localhost:8080/"
        },
        "id": "_wKLvislrdza",
        "outputId": "e5baba2b-c59e-4d0a-aa8e-51e4ce0aace6"
      },
      "outputs": [
        {
          "output_type": "stream",
          "name": "stdout",
          "text": [
            "200\n"
          ]
        }
      ],
      "source": [
        "arr= np.zeros((5,5))\n",
        "arr\n",
        "print(arr.size * arr.itemsize)"
      ]
    },
    {
      "cell_type": "markdown",
      "metadata": {
        "id": "1C9a0eh2rdza"
      },
      "source": [
        "#### 5. How to get the documentation of the numpy add function from the command line? (★☆☆)"
      ]
    },
    {
      "cell_type": "code",
      "execution_count": 7,
      "metadata": {
        "colab": {
          "base_uri": "https://localhost:8080/"
        },
        "id": "fIsUtDIUrdza",
        "outputId": "9e55cfa8-4313-4e91-ad91-cdd29e0fb82d"
      },
      "outputs": [
        {
          "output_type": "stream",
          "name": "stdout",
          "text": [
            "Help on ufunc:\n",
            "\n",
            "add = <ufunc 'add'>\n",
            "    add(x1, x2, /, out=None, *, where=True, casting='same_kind', order='K', dtype=None, subok=True[, signature, extobj])\n",
            "    \n",
            "    Add arguments element-wise.\n",
            "    \n",
            "    Parameters\n",
            "    ----------\n",
            "    x1, x2 : array_like\n",
            "        The arrays to be added.\n",
            "        If ``x1.shape != x2.shape``, they must be broadcastable to a common\n",
            "        shape (which becomes the shape of the output).\n",
            "    out : ndarray, None, or tuple of ndarray and None, optional\n",
            "        A location into which the result is stored. If provided, it must have\n",
            "        a shape that the inputs broadcast to. If not provided or None,\n",
            "        a freshly-allocated array is returned. A tuple (possible only as a\n",
            "        keyword argument) must have length equal to the number of outputs.\n",
            "    where : array_like, optional\n",
            "        This condition is broadcast over the input. At locations where the\n",
            "        condition is True, the `out` array will be set to the ufunc result.\n",
            "        Elsewhere, the `out` array will retain its original value.\n",
            "        Note that if an uninitialized `out` array is created via the default\n",
            "        ``out=None``, locations within it where the condition is False will\n",
            "        remain uninitialized.\n",
            "    **kwargs\n",
            "        For other keyword-only arguments, see the\n",
            "        :ref:`ufunc docs <ufuncs.kwargs>`.\n",
            "    \n",
            "    Returns\n",
            "    -------\n",
            "    add : ndarray or scalar\n",
            "        The sum of `x1` and `x2`, element-wise.\n",
            "        This is a scalar if both `x1` and `x2` are scalars.\n",
            "    \n",
            "    Notes\n",
            "    -----\n",
            "    Equivalent to `x1` + `x2` in terms of array broadcasting.\n",
            "    \n",
            "    Examples\n",
            "    --------\n",
            "    >>> np.add(1.0, 4.0)\n",
            "    5.0\n",
            "    >>> x1 = np.arange(9.0).reshape((3, 3))\n",
            "    >>> x2 = np.arange(3.0)\n",
            "    >>> np.add(x1, x2)\n",
            "    array([[  0.,   2.,   4.],\n",
            "           [  3.,   5.,   7.],\n",
            "           [  6.,   8.,  10.]])\n",
            "    \n",
            "    The ``+`` operator can be used as a shorthand for ``np.add`` on ndarrays.\n",
            "    \n",
            "    >>> x1 = np.arange(9.0).reshape((3, 3))\n",
            "    >>> x2 = np.arange(3.0)\n",
            "    >>> x1 + x2\n",
            "    array([[ 0.,  2.,  4.],\n",
            "           [ 3.,  5.,  7.],\n",
            "           [ 6.,  8., 10.]])\n",
            "\n"
          ]
        }
      ],
      "source": [
        "help(np.add)"
      ]
    },
    {
      "cell_type": "markdown",
      "metadata": {
        "id": "hu8sw59Prdza"
      },
      "source": [
        "#### 6. Create a null vector of size 10 but the fifth value which is 1 (★☆☆)"
      ]
    },
    {
      "cell_type": "code",
      "execution_count": 8,
      "metadata": {
        "colab": {
          "base_uri": "https://localhost:8080/"
        },
        "id": "TIHPNV2Drdzb",
        "outputId": "b91a860d-454c-4d2e-ffbd-e5790b2f4ce4"
      },
      "outputs": [
        {
          "output_type": "stream",
          "name": "stdout",
          "text": [
            "[0. 0. 0. 0. 1. 0. 0. 0. 0. 0.]\n"
          ]
        }
      ],
      "source": [
        "vector = np.zeros(10)\n",
        "vector[4] = 1\n",
        "print(vector)"
      ]
    },
    {
      "cell_type": "markdown",
      "metadata": {
        "id": "f9EYWrLbrdzb"
      },
      "source": [
        "#### 7. Create a vector with values ranging from 10 to 49 (★☆☆)"
      ]
    },
    {
      "cell_type": "code",
      "execution_count": 10,
      "metadata": {
        "colab": {
          "base_uri": "https://localhost:8080/"
        },
        "id": "rT7Kh8lGrdzb",
        "outputId": "6648b31e-2308-4126-e544-0528156189a4"
      },
      "outputs": [
        {
          "output_type": "stream",
          "name": "stdout",
          "text": [
            "[10 11 12 13 14 15 16 17 18 19 20 21 22 23 24 25 26 27 28 29 30 31 32 33\n",
            " 34 35 36 37 38 39 40 41 42 43 44 45 46 47 48 49]\n"
          ]
        }
      ],
      "source": [
        "arr= np.arange(10,50)\n",
        "print(arr)"
      ]
    },
    {
      "cell_type": "markdown",
      "metadata": {
        "id": "_5EGFj1erdzb"
      },
      "source": [
        "#### 8. Reverse a vector (first element becomes last) (★☆☆)"
      ]
    },
    {
      "cell_type": "code",
      "execution_count": 12,
      "metadata": {
        "colab": {
          "base_uri": "https://localhost:8080/"
        },
        "id": "Aswhwx-irdzb",
        "outputId": "e149f052-cc18-4d14-f6bd-7cd1d6dd52a4"
      },
      "outputs": [
        {
          "output_type": "stream",
          "name": "stdout",
          "text": [
            "[10 11 12 13 14 15 16 17 18 19]\n",
            "[19 18 17 16 15 14 13 12 11 10]\n"
          ]
        }
      ],
      "source": [
        "arr = np.arange(10,20)\n",
        "print(arr)\n",
        "reversed_vector = arr[::-1]\n",
        "print(reversed_vector)\n"
      ]
    },
    {
      "cell_type": "markdown",
      "metadata": {
        "id": "i5GDqXtWrdzb"
      },
      "source": [
        "#### 9. Create a 3x3 matrix with values ranging from 0 to 8 (★☆☆)"
      ]
    },
    {
      "cell_type": "code",
      "execution_count": 13,
      "metadata": {
        "colab": {
          "base_uri": "https://localhost:8080/"
        },
        "id": "7NbjCXofrdzb",
        "outputId": "3e3ae2de-287e-4402-cbe0-92490177079c"
      },
      "outputs": [
        {
          "output_type": "stream",
          "name": "stdout",
          "text": [
            "[[0 1 2]\n",
            " [3 4 5]\n",
            " [6 7 8]]\n"
          ]
        }
      ],
      "source": [
        "matrix = np.arange(9).reshape(3, 3)\n",
        "print(matrix)"
      ]
    },
    {
      "cell_type": "markdown",
      "metadata": {
        "id": "cRldSiWBrdzb"
      },
      "source": [
        "#### 10. Find indices of non-zero elements from [1,2,0,0,4,0] (★☆☆)"
      ]
    },
    {
      "cell_type": "code",
      "execution_count": 14,
      "metadata": {
        "colab": {
          "base_uri": "https://localhost:8080/"
        },
        "id": "dPqQvM84rdzb",
        "outputId": "dbba6b82-f225-4f17-e35c-7dce07f3ee69"
      },
      "outputs": [
        {
          "output_type": "execute_result",
          "data": {
            "text/plain": [
              "array([0, 1, 4])"
            ]
          },
          "metadata": {},
          "execution_count": 14
        }
      ],
      "source": [
        "arr = np.array([1, 2, 0, 0, 4, 0])\n",
        "non_zero_elements = np.nonzero(arr)[0]\n",
        "\n",
        "non_zero_elements\n"
      ]
    },
    {
      "cell_type": "markdown",
      "metadata": {
        "id": "CBvaQfXWrdzb"
      },
      "source": [
        "#### 11. Create a 3x3 identity matrix (★☆☆)"
      ]
    },
    {
      "cell_type": "code",
      "execution_count": 16,
      "metadata": {
        "colab": {
          "base_uri": "https://localhost:8080/"
        },
        "id": "p2hP8Tbqrdzb",
        "outputId": "a6fe6a13-490f-44d4-f0a7-b90ca8a71460"
      },
      "outputs": [
        {
          "output_type": "execute_result",
          "data": {
            "text/plain": [
              "array([[1., 0., 0.],\n",
              "       [0., 1., 0.],\n",
              "       [0., 0., 1.]])"
            ]
          },
          "metadata": {},
          "execution_count": 16
        }
      ],
      "source": [
        "identity_matrix = np.eye(3)\n",
        "identity_matrix"
      ]
    },
    {
      "cell_type": "markdown",
      "metadata": {
        "id": "J9LVKeLYrdzb"
      },
      "source": [
        "#### 12. Create a 3x3x3 array with random values (★☆☆)"
      ]
    },
    {
      "cell_type": "code",
      "execution_count": 17,
      "metadata": {
        "colab": {
          "base_uri": "https://localhost:8080/"
        },
        "id": "fo9-r9nhrdzb",
        "outputId": "61e01e92-e07b-4772-a64f-8556e4db8d7e"
      },
      "outputs": [
        {
          "output_type": "execute_result",
          "data": {
            "text/plain": [
              "array([[[0.37417594, 0.78529532, 0.50187399],\n",
              "        [0.69387772, 0.30172223, 0.18823454],\n",
              "        [0.23432148, 0.94830986, 0.86665913]],\n",
              "\n",
              "       [[0.98978533, 0.11662608, 0.72070583],\n",
              "        [0.34248785, 0.57545689, 0.96524304],\n",
              "        [0.34349507, 0.00245179, 0.78816761]],\n",
              "\n",
              "       [[0.54426202, 0.48128524, 0.26475931],\n",
              "        [0.95165812, 0.85754952, 0.39345757],\n",
              "        [0.83111772, 0.72065627, 0.04967318]]])"
            ]
          },
          "metadata": {},
          "execution_count": 17
        }
      ],
      "source": [
        "arr=np.random.rand(3,3,3)\n",
        "arr"
      ]
    },
    {
      "cell_type": "markdown",
      "metadata": {
        "id": "tk9lDEmWrdzb"
      },
      "source": [
        "#### 13. Create a 10x10 array with random values and find the minimum and maximum values (★☆☆)"
      ]
    },
    {
      "cell_type": "code",
      "execution_count": 18,
      "metadata": {
        "colab": {
          "base_uri": "https://localhost:8080/"
        },
        "id": "5-5z1ZXNrdzc",
        "outputId": "fc230c44-ebe0-4416-ffd9-89300b01bb15"
      },
      "outputs": [
        {
          "output_type": "stream",
          "name": "stdout",
          "text": [
            "[[5.44396312e-01 7.05666254e-02 1.19774352e-01 7.33941834e-01\n",
            "  8.01102373e-01 5.30608344e-02 3.29071257e-01 8.83021046e-01\n",
            "  6.96550580e-01 4.40065017e-01]\n",
            " [5.62414359e-01 9.11064766e-01 4.25817273e-01 9.61858604e-01\n",
            "  7.94866084e-01 1.85185547e-01 8.56139354e-01 6.05829088e-01\n",
            "  3.46613889e-01 5.67455102e-01]\n",
            " [5.85873264e-01 3.94915459e-01 5.86912739e-02 8.59524974e-01\n",
            "  2.14722148e-01 8.29789252e-02 9.98311371e-01 7.40503066e-01\n",
            "  7.39870709e-01 7.18348156e-01]\n",
            " [6.70735430e-01 8.57962851e-01 9.16354442e-01 8.50237412e-02\n",
            "  1.46494779e-01 3.45802049e-01 7.80246414e-01 3.45143370e-01\n",
            "  9.76561280e-01 9.85915401e-01]\n",
            " [7.99326781e-01 6.74514197e-01 6.78369410e-01 2.40938106e-01\n",
            "  2.58004541e-01 6.57992711e-01 2.16142638e-01 7.11179020e-01\n",
            "  9.44723824e-01 9.98965928e-01]\n",
            " [2.83833699e-01 5.74115276e-01 7.94882340e-01 3.76043837e-02\n",
            "  5.50010146e-01 2.56276130e-02 8.93942504e-01 4.61702540e-01\n",
            "  9.49352337e-01 7.71385918e-01]\n",
            " [3.26307227e-01 6.34176817e-01 5.64659410e-01 1.38626933e-01\n",
            "  9.17724987e-01 8.52163871e-03 6.91827171e-01 7.49208745e-01\n",
            "  3.88355440e-01 2.00922508e-01]\n",
            " [4.64378524e-01 4.36823293e-01 8.71262883e-01 8.66915554e-01\n",
            "  8.76173540e-01 2.64119279e-01 4.75441863e-01 1.10049493e-01\n",
            "  6.09762178e-01 4.89453086e-01]\n",
            " [6.26907317e-04 2.31758792e-02 3.18724978e-01 4.64522580e-01\n",
            "  4.07176930e-01 9.45128131e-01 5.09527028e-01 2.38442079e-01\n",
            "  7.27955009e-01 8.72725487e-01]\n",
            " [7.92472898e-01 7.61860600e-01 8.63859290e-01 9.53411679e-01\n",
            "  8.08274336e-01 3.90831481e-01 5.02089428e-04 7.28392523e-01\n",
            "  4.04752171e-01 3.39820984e-01]]\n",
            "0.0005020894280141075\n",
            "0.9989659279348239\n"
          ]
        }
      ],
      "source": [
        "arr = np.random.rand(10,10)\n",
        "print(arr)\n",
        "print(np.min(arr))\n",
        "print(np.max(arr))"
      ]
    },
    {
      "cell_type": "markdown",
      "metadata": {
        "id": "iyv7ZhA4rdzc"
      },
      "source": [
        "#### 14. Create a random vector of size 30 and find the mean value (★☆☆)"
      ]
    },
    {
      "cell_type": "code",
      "execution_count": 19,
      "metadata": {
        "colab": {
          "base_uri": "https://localhost:8080/"
        },
        "id": "B6InwSgQrdzc",
        "outputId": "e5dcc792-3772-4308-ae8b-15b4f957feb5"
      },
      "outputs": [
        {
          "output_type": "stream",
          "name": "stdout",
          "text": [
            "[0.20420538 0.04562022 0.40809168 0.97624416 0.66028049 0.31610319\n",
            " 0.15885619 0.77178275 0.03527368 0.94914761 0.56992092 0.09138386\n",
            " 0.59318755 0.65628439 0.45855428 0.77808229 0.52741418 0.94317589\n",
            " 0.22017667 0.42737334 0.93674749 0.44008434 0.70969738 0.95037409\n",
            " 0.45909864 0.77092183 0.35718879 0.87906553 0.20998967 0.22282547]\n",
            "0.5242383988652887\n"
          ]
        }
      ],
      "source": [
        "arr =np.random.rand(30)\n",
        "print(arr)\n",
        "print(np.mean(arr))"
      ]
    },
    {
      "cell_type": "markdown",
      "metadata": {
        "id": "0RQhT4rXrdzc"
      },
      "source": [
        "#### 15. Create a 2d array with 1 on the border and 0 inside (★☆☆)"
      ]
    },
    {
      "cell_type": "code",
      "execution_count": 21,
      "metadata": {
        "colab": {
          "base_uri": "https://localhost:8080/"
        },
        "id": "6YJIlQo5rdzc",
        "outputId": "1d2d6b22-7e5f-4d73-d5a6-e7f5acd0f1e9"
      },
      "outputs": [
        {
          "output_type": "stream",
          "name": "stdout",
          "text": [
            "[[1. 1. 1. 1. 1.]\n",
            " [1. 0. 0. 0. 1.]\n",
            " [1. 0. 0. 0. 1.]\n",
            " [1. 0. 0. 0. 1.]\n",
            " [1. 1. 1. 1. 1.]]\n"
          ]
        }
      ],
      "source": [
        "arr=np.ones((5,5))\n",
        "arr\n",
        "\n",
        "arr[1:-1, 1:-1] = 0\n",
        "print(arr)\n"
      ]
    }
  ],
  "metadata": {
    "kernelspec": {
      "display_name": "Python 3",
      "language": "python",
      "name": "python3"
    },
    "language_info": {
      "codemirror_mode": {
        "name": "ipython",
        "version": 3
      },
      "file_extension": ".py",
      "mimetype": "text/x-python",
      "name": "python",
      "nbconvert_exporter": "python",
      "pygments_lexer": "ipython3",
      "version": "3.7.4"
    },
    "colab": {
      "provenance": [],
      "include_colab_link": true
    }
  },
  "nbformat": 4,
  "nbformat_minor": 0
}