{
  "nbformat": 4,
  "nbformat_minor": 0,
  "metadata": {
    "colab": {
      "provenance": [],
      "include_colab_link": true
    },
    "kernelspec": {
      "name": "python3",
      "display_name": "Python 3"
    },
    "language_info": {
      "name": "python"
    }
  },
  "cells": [
    {
      "cell_type": "markdown",
      "metadata": {
        "id": "view-in-github",
        "colab_type": "text"
      },
      "source": [
        "<a href=\"https://colab.research.google.com/github/umiSirya/General-Data-analysis/blob/main/MNAR.ipynb\" target=\"_parent\"><img src=\"https://colab.research.google.com/assets/colab-badge.svg\" alt=\"Open In Colab\"/></a>"
      ]
    },
    {
      "cell_type": "markdown",
      "source": [
        "***Missing Not At Random:***\n",
        "### When data is **missing not at random** (MNAR) the likelihood of a missing observation is related to its values. It can be difficult to identify MNAR data because the values of missing data are unobserved. This can result in distorted data.\n",
        "\n",
        "eg 1. On a health survey, illicit drug users are less likely to respond to a question about illicit drug use.\n",
        "  2. Individuals surveyed about their age are more likely to leave the age question blank when they are older."
      ],
      "metadata": {
        "id": "kiLPMIASt9AJ"
      }
    },
    {
      "cell_type": "code",
      "source": [
        "import pandas as pd\n",
        "import numpy as np\n",
        "# Sample DataFrame with missing values that may be MNAR\n",
        "data = {\n",
        "    'Age': [25, 30, np.nan, 45, 50],\n",
        "    'Income': [50000, 60000, np.nan, np.nan, 75000],\n",
        "    'Marital_Status': ['Single', 'Married', 'Single', np.nan, 'Married']\n",
        "}\n",
        "df = pd.DataFrame(data)\n",
        "print(\"Original DataFrame with missing values:\")\n",
        "print(df)\n",
        "# Strategy 1: Labeling Missing Data as MNAR\n",
        "df['Income_Missing'] = df['Income'].isnull().astype(int)\n",
        "print(\"\\nDataFrame after adding an indicator column for missing Income values:\")\n",
        "print(df)\n",
        "# Strategy 2: Imputing based on assumption\n",
        "# Here, we assume MNAR values in Income and use median imputation as an example\n",
        "df['Income'].fillna(df['Income'].median(), inplace=True)\n",
        "print(\"\\nDataFrame after imputing missing Income values with median:\")\n",
        "print(df)"
      ],
      "metadata": {
        "colab": {
          "base_uri": "https://localhost:8080/"
        },
        "id": "T5ahLd1Lwd6F",
        "outputId": "7a6ac6e8-dc62-44f3-bd32-10db1455b157"
      },
      "execution_count": null,
      "outputs": [
        {
          "output_type": "stream",
          "name": "stdout",
          "text": [
            "Original DataFrame with missing values:\n",
            "    Age   Income Marital_Status\n",
            "0  25.0  50000.0         Single\n",
            "1  30.0  60000.0        Married\n",
            "2   NaN      NaN         Single\n",
            "3  45.0      NaN            NaN\n",
            "4  50.0  75000.0        Married\n",
            "\n",
            "DataFrame after adding an indicator column for missing Income values:\n",
            "    Age   Income Marital_Status  Income_Missing\n",
            "0  25.0  50000.0         Single               0\n",
            "1  30.0  60000.0        Married               0\n",
            "2   NaN      NaN         Single               1\n",
            "3  45.0      NaN            NaN               1\n",
            "4  50.0  75000.0        Married               0\n",
            "\n",
            "DataFrame after imputing missing Income values with median:\n",
            "    Age   Income Marital_Status  Income_Missing\n",
            "0  25.0  50000.0         Single               0\n",
            "1  30.0  60000.0        Married               0\n",
            "2   NaN  60000.0         Single               1\n",
            "3  45.0  60000.0            NaN               1\n",
            "4  50.0  75000.0        Married               0\n"
          ]
        },
        {
          "output_type": "stream",
          "name": "stderr",
          "text": [
            "<ipython-input-1-75ae778531c7>:18: FutureWarning: A value is trying to be set on a copy of a DataFrame or Series through chained assignment using an inplace method.\n",
            "The behavior will change in pandas 3.0. This inplace method will never work because the intermediate object on which we are setting values always behaves as a copy.\n",
            "\n",
            "For example, when doing 'df[col].method(value, inplace=True)', try using 'df.method({col: value}, inplace=True)' or df[col] = df[col].method(value) instead, to perform the operation inplace on the original object.\n",
            "\n",
            "\n",
            "  df['Income'].fillna(df['Income'].median(), inplace=True)\n"
          ]
        }
      ]
    },
    {
      "cell_type": "markdown",
      "source": [
        "https://www.youtube.com/watch?v=rDZWtgOH124"
      ],
      "metadata": {
        "id": "9HAa16shxEJP"
      }
    },
    {
      "cell_type": "code",
      "source": [],
      "metadata": {
        "id": "U7GMl_9OyJfj"
      },
      "execution_count": null,
      "outputs": []
    }
  ]
}