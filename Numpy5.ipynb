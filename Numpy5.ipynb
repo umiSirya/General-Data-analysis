{
  "cells": [
    {
      "cell_type": "markdown",
      "metadata": {
        "id": "view-in-github",
        "colab_type": "text"
      },
      "source": [
        "<a href=\"https://colab.research.google.com/github/umiSirya/General-Data-analysis/blob/main/Numpy5.ipynb\" target=\"_parent\"><img src=\"https://colab.research.google.com/assets/colab-badge.svg\" alt=\"Open In Colab\"/></a>"
      ]
    },
    {
      "cell_type": "markdown",
      "metadata": {
        "id": "2memurvT3ujO"
      },
      "source": [
        "# Numpy Exercise 5\n",
        "\n",
        "### All of the questions in this exercise are attributed to rougier/numpy-100"
      ]
    },
    {
      "cell_type": "code",
      "execution_count": null,
      "metadata": {
        "colab": {
          "base_uri": "https://localhost:8080/"
        },
        "id": "lPlK-_jd3ujU",
        "outputId": "3836b21c-8a1f-4bcb-fe4e-84c295128280"
      },
      "outputs": [
        {
          "output_type": "stream",
          "name": "stdout",
          "text": [
            "Nearest value to 20 is 22\n"
          ]
        }
      ],
      "source": [
        "import numpy as np\n",
        "\n",
        "def find_nearest(array, value):\n",
        "    array = np.array(array)  # Ensure the input is a numpy array\n",
        "    idx = (np.abs(array - value)).argmin()  # Find the index of the nearest value\n",
        "    return array[idx]  # Return the nearest value\n",
        "\n",
        "# Example usage\n",
        "array = [10, 22, 14, 26, 34, 45]\n",
        "value = 20\n",
        "nearest_value = find_nearest(array, value)\n",
        "print(\"Nearest value to\", value, \"is\", nearest_value)"
      ]
    },
    {
      "cell_type": "markdown",
      "metadata": {
        "id": "KxTyn6Rl3ujV"
      },
      "source": [
        "#### 61. Find the nearest value from a given value in an array (★★☆)"
      ]
    },
    {
      "cell_type": "code",
      "execution_count": null,
      "metadata": {
        "colab": {
          "base_uri": "https://localhost:8080/"
        },
        "id": "ijR8arca3ujW",
        "outputId": "d0022221-906a-4250-95f9-716dcf7edf19"
      },
      "outputs": [
        {
          "output_type": "stream",
          "name": "stdout",
          "text": [
            "Nearest value to 20 is 22\n"
          ]
        }
      ],
      "source": [
        "def find_nearest(array, target):\n",
        "    # Find the nearest value in the array to the target\n",
        "    nearest = min(array, key=lambda x: abs(x - target))\n",
        "    return nearest\n",
        "\n",
        "# Example usage\n",
        "array = [10, 22, 14, 26, 34, 45]\n",
        "target = 20\n",
        "nearest_value = find_nearest(array, target)\n",
        "print(\"Nearest value to\", target, \"is\", nearest_value)\n"
      ]
    },
    {
      "cell_type": "markdown",
      "metadata": {
        "id": "yB0QhZ-a3ujX"
      },
      "source": [
        "#### 62. Considering two arrays with shape (1,3) and (3,1), how to compute their sum using an iterator? (★★☆)"
      ]
    },
    {
      "cell_type": "code",
      "execution_count": null,
      "metadata": {
        "colab": {
          "base_uri": "https://localhost:8080/"
        },
        "id": "eu4XOnLe3ujY",
        "outputId": "fbf2c200-eb0b-43a2-f5fa-6b40ccdc3230"
      },
      "outputs": [
        {
          "output_type": "stream",
          "name": "stdout",
          "text": [
            "Resultant Array:\n",
            " [[5. 6. 7.]\n",
            " [6. 7. 8.]\n",
            " [7. 8. 9.]]\n"
          ]
        }
      ],
      "source": [
        "\n",
        "\n",
        "# Define the arrays\n",
        "array1 = np.array([[1, 2, 3]])  # Shape (1, 3)\n",
        "array2 = np.array([[4], [5], [6]])  # Shape (3, 1)\n",
        "\n",
        "# Create an iterator to compute the sum element-wise\n",
        "result = np.empty((3, 3))  # Initialize an empty array to store the results\n",
        "it = np.nditer([array1,array2, result], flags=['multi_index', 'refs_ok'], op_flags=[['readonly'], ['readonly'], ['writeonly']])\n",
        "\n",
        "# Perform the element-wise addition using the iterator\n",
        "for x, y, z in it:\n",
        "    z[...] = x + y\n",
        "\n",
        "# Display the result\n",
        "print(\"Resultant Array:\\n\", result)\n",
        "\n"
      ]
    },
    {
      "cell_type": "markdown",
      "metadata": {
        "id": "IgT2gHth3ujY"
      },
      "source": [
        "#### 63. Create an array class that has a name attribute (★★☆)"
      ]
    },
    {
      "cell_type": "code",
      "execution_count": null,
      "metadata": {
        "colab": {
          "base_uri": "https://localhost:8080/"
        },
        "id": "lSqdHIfU3ujY",
        "outputId": "61939cb5-7767-431e-f132-9e6ba6d376a0"
      },
      "outputs": [
        {
          "output_type": "stream",
          "name": "stdout",
          "text": [
            "Array1:\n",
            "[[1 2 3]]\n",
            "Array2:\n",
            "[[4]\n",
            " [5]\n",
            " [6]]\n",
            "Array1 + Array:\n",
            "[[5 6 7]\n",
            " [6 7 8]\n",
            " [7 8 9]]\n"
          ]
        }
      ],
      "source": [
        "class NamedArray:\n",
        "    def __init__(self, data, name=\"Unnamed Array\"):\n",
        "        # Initialize with data and name\n",
        "        self.data = np.array(data)\n",
        "        self.name = name\n",
        "\n",
        "    def __repr__(self):\n",
        "        # Custom representation to display the name and array data\n",
        "        return f\"{self.name}:\\n{self.data}\"\n",
        "\n",
        "    def __add__(self, other):\n",
        "        # Support element-wise addition with another NamedArray or NumPy array\n",
        "        if isinstance(other, NamedArray):\n",
        "            other = other.data\n",
        "        return NamedArray(self.data + other, name=f\"{self.name} + {other.name if isinstance(other, NamedArray) else 'Array'}\")\n",
        "\n",
        "    # Add other array-like methods as needed, for example, accessing elements:\n",
        "    def __getitem__(self, index):\n",
        "        return self.data[index]\n",
        "\n",
        "# Example usage\n",
        "array1 = NamedArray([[1, 2, 3]], name=\"Array1\")\n",
        "array2 = NamedArray([[4], [5], [6]], name=\"Array2\")\n",
        "\n",
        "# Print arrays\n",
        "print(array1)\n",
        "print(array2)\n",
        "\n",
        "# Perform addition and print result\n",
        "result = array1 + array2\n",
        "print(result)"
      ]
    },
    {
      "cell_type": "markdown",
      "metadata": {
        "id": "CfCGtefh3ujZ"
      },
      "source": [
        "#### 64. Consider a given vector, how to add 1 to each element indexed by a second vector (be careful with repeated indices)? (★★★)"
      ]
    },
    {
      "cell_type": "code",
      "execution_count": null,
      "metadata": {
        "colab": {
          "base_uri": "https://localhost:8080/"
        },
        "id": "lNa--Toq3ujZ",
        "outputId": "1ee5ab37-c071-4848-de5a-50a9556119da"
      },
      "outputs": [
        {
          "output_type": "stream",
          "name": "stdout",
          "text": [
            "Updated vector: [11 22 31 40 51]\n"
          ]
        }
      ],
      "source": [
        "vector = np.array([10, 20, 30, 40, 50])\n",
        "indices = np.array([0, 1, 1, 2, 4])  # Note: index 1 is repeated\n",
        "\n",
        "# Increment each element in 'vector' at the positions specified by 'indices'\n",
        "np.add.at(vector, indices, 1)\n",
        "\n",
        "# Display the result\n",
        "print(\"Updated vector:\", vector)"
      ]
    },
    {
      "cell_type": "markdown",
      "metadata": {
        "id": "hK7Tz-jt3uja"
      },
      "source": [
        "#### 65. How to accumulate elements of a vector (X) to an array (F) based on an index list (I)? (★★★)"
      ]
    },
    {
      "cell_type": "code",
      "execution_count": null,
      "metadata": {
        "colab": {
          "base_uri": "https://localhost:8080/"
        },
        "id": "pXoAfccp3uja",
        "outputId": "73b122fd-c665-458c-d493-f9650120641f"
      },
      "outputs": [
        {
          "output_type": "stream",
          "name": "stdout",
          "text": [
            "Accumulated array F: [30. 25. 20.]\n"
          ]
        }
      ],
      "source": [
        "X = np.array([5, 10, 15, 20, 25])  # Values to accumulate\n",
        "I = np.array([0, 1, 1, 2, 0])      # Index positions in F\n",
        "\n",
        "# Initialize the target array F with zeros (or another base value if needed)\n",
        "F = np.zeros(3)\n",
        "\n",
        "# Accumulate values from X into F at indices specified in I\n",
        "np.add.at(F, I, X)\n",
        "\n",
        "# Display the result\n",
        "print(\"Accumulated array F:\", F)"
      ]
    },
    {
      "cell_type": "markdown",
      "metadata": {
        "id": "-SppgzCn3ujb"
      },
      "source": [
        "#### 66. Considering a (w,h,3) image of (dtype=ubyte), compute the number of unique colors (★★☆)"
      ]
    },
    {
      "cell_type": "code",
      "execution_count": null,
      "metadata": {
        "colab": {
          "base_uri": "https://localhost:8080/"
        },
        "id": "xPx26SQY3ujb",
        "outputId": "23796c2b-c44a-4bac-f189-d7e1eb4a2a7a"
      },
      "outputs": [
        {
          "output_type": "stream",
          "name": "stdout",
          "text": [
            "Number of unique colors: 9997\n"
          ]
        }
      ],
      "source": [
        "# Example image with shape (w, h, 3) and dtype=ubyte\n",
        "# Assuming 'image' is your input image array with shape (w, h, 3)\n",
        "# For demonstration, let's create a random image\n",
        "w, h = 100, 100  # Image width and height\n",
        "image = np.random.randint(0, 256, size=(w, h, 3), dtype=np.uint8)\n",
        "\n",
        "# Reshape the image to a 2D array of pixels, where each row is a color (R, G, B)\n",
        "pixels = image.reshape(-1, 3)\n",
        "\n",
        "# Use np.unique to find unique rows (unique colors), and count them\n",
        "unique_colors = np.unique(pixels, axis=0)\n",
        "num_unique_colors = unique_colors.shape[0]\n",
        "\n",
        "# Display the result\n",
        "print(\"Number of unique colors:\", num_unique_colors)"
      ]
    },
    {
      "cell_type": "markdown",
      "metadata": {
        "id": "1BXFUEAL3ujb"
      },
      "source": [
        "#### 67. Considering a four dimensions array, how to get sum over the last two axis at once? (★★★)"
      ]
    },
    {
      "cell_type": "code",
      "execution_count": null,
      "metadata": {
        "colab": {
          "base_uri": "https://localhost:8080/"
        },
        "id": "xKaUSb4S3ujb",
        "outputId": "65e3ba3f-6aaf-4bf7-d202-1ed305afc4b7"
      },
      "outputs": [
        {
          "output_type": "stream",
          "name": "stdout",
          "text": [
            "Shape of the result: (3, 4)\n",
            "Resulting array after summing over the last two axes:\n",
            " [[14.81200172 12.13530415 13.85613883 14.9914101 ]\n",
            " [16.00591366 14.57075353 16.70375084 16.53702427]\n",
            " [14.45410455 16.490816   16.5064317  13.59735405]]\n"
          ]
        }
      ],
      "source": [
        "# Create a sample 4D array\n",
        "array = np.random.rand(3, 4, 5, 6)  # Shape (3, 4, 5, 6)\n",
        "\n",
        "# Sum over the last two axes (axis -2 and -1)\n",
        "result = array.sum(axis=(-2, -1))\n",
        "\n",
        "# Display the shape and result\n",
        "print(\"Shape of the result:\", result.shape)\n",
        "print(\"Resulting array after summing over the last two axes:\\n\", result)"
      ]
    },
    {
      "cell_type": "markdown",
      "metadata": {
        "id": "6lNqqBrz3ujc"
      },
      "source": [
        "#### 68. Considering a one-dimensional vector D, how to compute means of subsets of D using a vector S of same size describing subset  indices? (★★★)"
      ]
    },
    {
      "cell_type": "code",
      "execution_count": null,
      "metadata": {
        "id": "SVOmlaWe3ujc"
      },
      "outputs": [],
      "source": []
    },
    {
      "cell_type": "markdown",
      "metadata": {
        "id": "s2qf0EOi3ujc"
      },
      "source": [
        "#### 69. How to get the diagonal of a dot product? (★★★)"
      ]
    },
    {
      "cell_type": "code",
      "execution_count": null,
      "metadata": {
        "id": "m96-MPX13ujc"
      },
      "outputs": [],
      "source": []
    },
    {
      "cell_type": "markdown",
      "metadata": {
        "id": "MXKi9m7T3ujd"
      },
      "source": [
        "#### 70. Consider the vector [1, 2, 3, 4, 5], how to build a new vector with 3 consecutive zeros interleaved between each value? (★★★)"
      ]
    },
    {
      "cell_type": "code",
      "execution_count": null,
      "metadata": {
        "id": "cTBjRpR03ujd"
      },
      "outputs": [],
      "source": []
    },
    {
      "cell_type": "markdown",
      "metadata": {
        "id": "Sr_K_hRS3ujd"
      },
      "source": [
        "#### 71. Consider an array of dimension (5,5,3), how to mulitply it by an array with dimensions (5,5)? (★★★)"
      ]
    },
    {
      "cell_type": "code",
      "execution_count": null,
      "metadata": {
        "id": "37qV7TbW3uje"
      },
      "outputs": [],
      "source": []
    },
    {
      "cell_type": "markdown",
      "metadata": {
        "id": "lThBtuLs3uje"
      },
      "source": [
        "#### 72. How to swap two rows of an array? (★★★)"
      ]
    },
    {
      "cell_type": "code",
      "execution_count": null,
      "metadata": {
        "id": "XDP8Z9AT3uje"
      },
      "outputs": [],
      "source": []
    },
    {
      "cell_type": "markdown",
      "metadata": {
        "id": "yWHglhvo3uje"
      },
      "source": [
        "#### 73. Consider a set of 10 triplets describing 10 triangles (with shared vertices), find the set of unique line segments composing all the  triangles (★★★)"
      ]
    },
    {
      "cell_type": "code",
      "execution_count": null,
      "metadata": {
        "id": "mA2prR0y3ujf"
      },
      "outputs": [],
      "source": []
    },
    {
      "cell_type": "markdown",
      "metadata": {
        "id": "hOcpK3K73ujf"
      },
      "source": [
        "#### 74. Given a sorted array C that corresponds to a bincount, how to produce an array A such that np.bincount(A) == C? (★★★)"
      ]
    },
    {
      "cell_type": "code",
      "execution_count": null,
      "metadata": {
        "id": "WKf4bFkv3ujf"
      },
      "outputs": [],
      "source": []
    },
    {
      "cell_type": "markdown",
      "metadata": {
        "id": "4wHG35Kk3ujg"
      },
      "source": [
        "#### 75. How to compute averages using a sliding window over an array? (★★★)"
      ]
    },
    {
      "cell_type": "code",
      "execution_count": null,
      "metadata": {
        "id": "FNvhl5o33ujg"
      },
      "outputs": [],
      "source": []
    },
    {
      "cell_type": "markdown",
      "metadata": {
        "id": "IefjSOmC3ujh"
      },
      "source": [
        "#### 76. Consider a one-dimensional array Z, build a two-dimensional array whose first row is (Z[0],Z[1],Z[2]) and each subsequent row is  shifted by 1 (last row should be (Z[-3],Z[-2],Z[-1]) (★★★)"
      ]
    },
    {
      "cell_type": "code",
      "execution_count": null,
      "metadata": {
        "id": "C_GlCn5B3ujh"
      },
      "outputs": [],
      "source": []
    },
    {
      "cell_type": "markdown",
      "metadata": {
        "id": "H_SkX5f63ujh"
      },
      "source": [
        "#### 77. How to negate a boolean, or to change the sign of a float inplace? (★★★)"
      ]
    },
    {
      "cell_type": "code",
      "execution_count": null,
      "metadata": {
        "id": "iJuuLwrt3ujh"
      },
      "outputs": [],
      "source": []
    },
    {
      "cell_type": "markdown",
      "metadata": {
        "id": "WL8vhiHY3ujh"
      },
      "source": [
        "#### 78. Consider 2 sets of points P0,P1 describing lines (2d) and a point p, how to compute distance from p to each line i (P0[i],P1[i])? (★★★)"
      ]
    },
    {
      "cell_type": "code",
      "execution_count": null,
      "metadata": {
        "id": "lzdvAZ2w3uji"
      },
      "outputs": [],
      "source": []
    },
    {
      "cell_type": "markdown",
      "metadata": {
        "id": "_up6N9YJ3uji"
      },
      "source": [
        "#### 79. Consider 2 sets of points P0,P1 describing lines (2d) and a set of points P, how to compute distance from each point j (P[j]) to each line i (P0[i],P1[i])? (★★★)"
      ]
    },
    {
      "cell_type": "code",
      "execution_count": null,
      "metadata": {
        "id": "g5QiaD6n3ujk"
      },
      "outputs": [],
      "source": []
    },
    {
      "cell_type": "markdown",
      "metadata": {
        "id": "-rkxZPCk3ujk"
      },
      "source": [
        "#### 80. Consider an arbitrary array, write a function that extract a subpart with a fixed shape and centered on a given element (pad with a `fill` value when necessary) (★★★)"
      ]
    },
    {
      "cell_type": "code",
      "execution_count": null,
      "metadata": {
        "id": "iklqZ8Ta3ujk"
      },
      "outputs": [],
      "source": []
    },
    {
      "cell_type": "markdown",
      "metadata": {
        "id": "7you90zX3ujk"
      },
      "source": [
        "#### 81. Consider an array Z = [1,2,3,4,5,6,7,8,9,10,11,12,13,14], how to generate an array R = [[1,2,3,4], [2,3,4,5], [3,4,5,6], ..., [11,12,13,14]]? (★★★)"
      ]
    },
    {
      "cell_type": "code",
      "execution_count": null,
      "metadata": {
        "id": "vK_s16j13ujl"
      },
      "outputs": [],
      "source": []
    },
    {
      "cell_type": "markdown",
      "metadata": {
        "id": "rhwEVh-I3ujl"
      },
      "source": [
        "#### 82. Compute a matrix rank (★★★)"
      ]
    },
    {
      "cell_type": "code",
      "execution_count": null,
      "metadata": {
        "id": "f2U2sQQH3ujl"
      },
      "outputs": [],
      "source": []
    },
    {
      "cell_type": "markdown",
      "metadata": {
        "id": "CxmNO8P13ujl"
      },
      "source": [
        "#### 83. How to find the most frequent value in an array?"
      ]
    },
    {
      "cell_type": "code",
      "execution_count": null,
      "metadata": {
        "id": "3kqdrSM43ujm"
      },
      "outputs": [],
      "source": []
    },
    {
      "cell_type": "markdown",
      "metadata": {
        "id": "2Y0zcz7W3ujm"
      },
      "source": [
        "#### 84. Extract all the contiguous 3x3 blocks from a random 10x10 matrix (★★★)"
      ]
    },
    {
      "cell_type": "code",
      "execution_count": null,
      "metadata": {
        "id": "202WO1xL3ujm"
      },
      "outputs": [],
      "source": []
    },
    {
      "cell_type": "markdown",
      "metadata": {
        "id": "4KzBHN-O3ujm"
      },
      "source": [
        "#### 85. Create a 2D array subclass such that Z[i,j] == Z[j,i] (★★★)"
      ]
    },
    {
      "cell_type": "code",
      "execution_count": null,
      "metadata": {
        "id": "g7UuSuww3ujn"
      },
      "outputs": [],
      "source": []
    },
    {
      "cell_type": "markdown",
      "metadata": {
        "id": "EPsrHpVR3ujn"
      },
      "source": [
        "#### 86. Consider a set of p matrices wich shape (n,n) and a set of p vectors with shape (n,1). How to compute the sum of of the p matrix products at once? (result has shape (n,1)) (★★★)"
      ]
    },
    {
      "cell_type": "code",
      "execution_count": null,
      "metadata": {
        "id": "qlPGfF3N3ujn"
      },
      "outputs": [],
      "source": []
    },
    {
      "cell_type": "markdown",
      "metadata": {
        "id": "Gbr__ZKP3ujn"
      },
      "source": [
        "#### 87. Consider a 16x16 array, how to get the block-sum (block size is 4x4)? (★★★)"
      ]
    },
    {
      "cell_type": "code",
      "execution_count": null,
      "metadata": {
        "id": "j2MRsiaB3ujo"
      },
      "outputs": [],
      "source": []
    },
    {
      "cell_type": "markdown",
      "metadata": {
        "id": "o2JtUiOq3ujo"
      },
      "source": [
        "#### 88. How to implement the Game of Life using numpy arrays? (★★★)"
      ]
    },
    {
      "cell_type": "code",
      "execution_count": null,
      "metadata": {
        "id": "K_tbEfiJ3ujo"
      },
      "outputs": [],
      "source": []
    },
    {
      "cell_type": "markdown",
      "metadata": {
        "id": "PmoBFehg3ujp"
      },
      "source": [
        "#### 89. How to get the n largest values of an array (★★★)"
      ]
    },
    {
      "cell_type": "code",
      "execution_count": null,
      "metadata": {
        "id": "OAUPJxiI3ujp"
      },
      "outputs": [],
      "source": []
    },
    {
      "cell_type": "markdown",
      "metadata": {
        "id": "KNjcg72R3ujp"
      },
      "source": [
        "#### 90. Given an arbitrary number of vectors, build the cartesian product (every combinations of every item) (★★★)"
      ]
    },
    {
      "cell_type": "code",
      "execution_count": null,
      "metadata": {
        "id": "lhX4dFmD3ujp"
      },
      "outputs": [],
      "source": []
    },
    {
      "cell_type": "markdown",
      "metadata": {
        "id": "CGLMOcYW3ujq"
      },
      "source": [
        "#### 91. How to create a record array from a regular array? (★★★)"
      ]
    },
    {
      "cell_type": "code",
      "execution_count": null,
      "metadata": {
        "id": "zfCDrAbz3ujq"
      },
      "outputs": [],
      "source": []
    },
    {
      "cell_type": "markdown",
      "metadata": {
        "id": "ufA09czE3ujq"
      },
      "source": [
        "#### 92. Consider a large vector Z, compute Z to the power of 3 using 3 different methods (★★★)"
      ]
    },
    {
      "cell_type": "code",
      "execution_count": null,
      "metadata": {
        "id": "BrclvOYr3ujq"
      },
      "outputs": [],
      "source": []
    },
    {
      "cell_type": "markdown",
      "metadata": {
        "id": "3lrm-OP03ujr"
      },
      "source": [
        "#### 93. Consider two arrays A and B of shape (8,3) and (2,2). How to find rows of A that contain elements of each row of B regardless of the order of the elements in B? (★★★)"
      ]
    },
    {
      "cell_type": "code",
      "execution_count": null,
      "metadata": {
        "id": "34zeU3e13ujr"
      },
      "outputs": [],
      "source": []
    },
    {
      "cell_type": "markdown",
      "metadata": {
        "id": "1ptTkqop3ujr"
      },
      "source": [
        "#### 94. Considering a 10x3 matrix, extract rows with unequal values (e.g. [2,2,3]) (★★★)"
      ]
    },
    {
      "cell_type": "code",
      "execution_count": null,
      "metadata": {
        "id": "VkSmrz7Y3ujr"
      },
      "outputs": [],
      "source": []
    },
    {
      "cell_type": "markdown",
      "metadata": {
        "id": "ZyKUSpu-3ujs"
      },
      "source": [
        "#### 95. Convert a vector of ints into a matrix binary representation (★★★)"
      ]
    },
    {
      "cell_type": "code",
      "execution_count": null,
      "metadata": {
        "id": "N6VmAUqA3ujs"
      },
      "outputs": [],
      "source": []
    },
    {
      "cell_type": "markdown",
      "metadata": {
        "id": "flQ6h3aC3ujs"
      },
      "source": [
        "#### 96. Given a two dimensional array, how to extract unique rows? (★★★)"
      ]
    },
    {
      "cell_type": "code",
      "execution_count": null,
      "metadata": {
        "id": "EBfzmY4W3ujs"
      },
      "outputs": [],
      "source": []
    },
    {
      "cell_type": "markdown",
      "metadata": {
        "id": "mWKLBUpb3ujt"
      },
      "source": [
        "#### 97. Considering 2 vectors A & B, write the einsum equivalent of inner, outer, sum, and mul function (★★★)"
      ]
    },
    {
      "cell_type": "code",
      "execution_count": null,
      "metadata": {
        "id": "ofeGlzrF3ujt"
      },
      "outputs": [],
      "source": []
    },
    {
      "cell_type": "markdown",
      "metadata": {
        "id": "cvH6mMIU3ujt"
      },
      "source": [
        "#### 98. Considering a path described by two vectors (X,Y), how to sample it using equidistant samples (★★★)?"
      ]
    },
    {
      "cell_type": "code",
      "execution_count": null,
      "metadata": {
        "id": "YghZKfuT3ujt"
      },
      "outputs": [],
      "source": []
    },
    {
      "cell_type": "markdown",
      "metadata": {
        "id": "EtVqXq123uju"
      },
      "source": [
        "#### 99. Given an integer n and a 2D array X, select from X the rows which can be interpreted as draws from a multinomial distribution with n degrees, i.e., the rows which only contain integers and which sum to n. (★★★)"
      ]
    },
    {
      "cell_type": "code",
      "execution_count": null,
      "metadata": {
        "id": "SPvkkRdu3uju"
      },
      "outputs": [],
      "source": []
    },
    {
      "cell_type": "markdown",
      "metadata": {
        "id": "Zs4Cqv8l3uju"
      },
      "source": [
        "#### 100. Compute bootstrapped 95% confidence intervals for the mean of a 1D array X (i.e., resample the elements of an array with replacement N times, compute the mean of each sample, and then compute percentiles over the means). (★★★)"
      ]
    },
    {
      "cell_type": "code",
      "execution_count": null,
      "metadata": {
        "id": "0APRm8p33uju"
      },
      "outputs": [],
      "source": []
    },
    {
      "cell_type": "code",
      "execution_count": null,
      "metadata": {
        "id": "BILF3nxS3ujv"
      },
      "outputs": [],
      "source": []
    }
  ],
  "metadata": {
    "kernelspec": {
      "display_name": "Python 3",
      "language": "python",
      "name": "python3"
    },
    "language_info": {
      "codemirror_mode": {
        "name": "ipython",
        "version": 3
      },
      "file_extension": ".py",
      "mimetype": "text/x-python",
      "name": "python",
      "nbconvert_exporter": "python",
      "pygments_lexer": "ipython3",
      "version": "3.7.4"
    },
    "colab": {
      "provenance": [],
      "include_colab_link": true
    }
  },
  "nbformat": 4,
  "nbformat_minor": 0
}