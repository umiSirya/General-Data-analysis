{
  "cells": [
    {
      "cell_type": "markdown",
      "metadata": {
        "id": "view-in-github",
        "colab_type": "text"
      },
      "source": [
        "<a href=\"https://colab.research.google.com/github/umiSirya/General-Data-analysis/blob/main/Numpy5.ipynb\" target=\"_parent\"><img src=\"https://colab.research.google.com/assets/colab-badge.svg\" alt=\"Open In Colab\"/></a>"
      ]
    },
    {
      "cell_type": "markdown",
      "metadata": {
        "id": "2memurvT3ujO"
      },
      "source": [
        "# Numpy Exercise 5\n",
        "\n",
        "### All of the questions in this exercise are attributed to rougier/numpy-100"
      ]
    },
    {
      "cell_type": "code",
      "execution_count": 2,
      "metadata": {
        "colab": {
          "base_uri": "https://localhost:8080/"
        },
        "id": "lPlK-_jd3ujU",
        "outputId": "4e6493e2-9b26-42e4-d2f8-545178e525c9"
      },
      "outputs": [
        {
          "output_type": "stream",
          "name": "stdout",
          "text": [
            "Nearest value to 20 is 22\n"
          ]
        }
      ],
      "source": [
        "import numpy as np\n",
        "\n",
        "def find_nearest(array, value):\n",
        "    array = np.array(array)  # Ensure the input is a numpy array\n",
        "    idx = (np.abs(array - value)).argmin()  # Find the index of the nearest value\n",
        "    return array[idx]  # Return the nearest value\n",
        "\n",
        "# Example usage\n",
        "array = [10, 22, 14, 26, 34, 45]\n",
        "value = 20\n",
        "nearest_value = find_nearest(array, value)\n",
        "print(\"Nearest value to\", value, \"is\", nearest_value)"
      ]
    },
    {
      "cell_type": "markdown",
      "metadata": {
        "id": "KxTyn6Rl3ujV"
      },
      "source": [
        "#### 61. Find the nearest value from a given value in an array (★★☆)"
      ]
    },
    {
      "cell_type": "code",
      "execution_count": null,
      "metadata": {
        "colab": {
          "base_uri": "https://localhost:8080/"
        },
        "id": "ijR8arca3ujW",
        "outputId": "d0022221-906a-4250-95f9-716dcf7edf19"
      },
      "outputs": [
        {
          "output_type": "stream",
          "name": "stdout",
          "text": [
            "Nearest value to 20 is 22\n"
          ]
        }
      ],
      "source": [
        "def find_nearest(array, target):\n",
        "    # Find the nearest value in the array to the target\n",
        "    nearest = min(array, key=lambda x: abs(x - target))\n",
        "    return nearest\n",
        "\n",
        "# Example usage\n",
        "array = [10, 22, 14, 26, 34, 45]\n",
        "target = 20\n",
        "nearest_value = find_nearest(array, target)\n",
        "print(\"Nearest value to\", target, \"is\", nearest_value)\n"
      ]
    },
    {
      "cell_type": "markdown",
      "metadata": {
        "id": "yB0QhZ-a3ujX"
      },
      "source": [
        "#### 62. Considering two arrays with shape (1,3) and (3,1), how to compute their sum using an iterator? (★★☆)"
      ]
    },
    {
      "cell_type": "code",
      "execution_count": null,
      "metadata": {
        "colab": {
          "base_uri": "https://localhost:8080/"
        },
        "id": "eu4XOnLe3ujY",
        "outputId": "fbf2c200-eb0b-43a2-f5fa-6b40ccdc3230"
      },
      "outputs": [
        {
          "output_type": "stream",
          "name": "stdout",
          "text": [
            "Resultant Array:\n",
            " [[5. 6. 7.]\n",
            " [6. 7. 8.]\n",
            " [7. 8. 9.]]\n"
          ]
        }
      ],
      "source": [
        "\n",
        "\n",
        "# Define the arrays\n",
        "array1 = np.array([[1, 2, 3]])  # Shape (1, 3)\n",
        "array2 = np.array([[4], [5], [6]])  # Shape (3, 1)\n",
        "\n",
        "# Create an iterator to compute the sum element-wise\n",
        "result = np.empty((3, 3))  # Initialize an empty array to store the results\n",
        "it = np.nditer([array1,array2, result], flags=['multi_index', 'refs_ok'], op_flags=[['readonly'], ['readonly'], ['writeonly']])\n",
        "\n",
        "# Perform the element-wise addition using the iterator\n",
        "for x, y, z in it:\n",
        "    z[...] = x + y\n",
        "\n",
        "# Display the result\n",
        "print(\"Resultant Array:\\n\", result)\n",
        "\n"
      ]
    },
    {
      "cell_type": "markdown",
      "metadata": {
        "id": "IgT2gHth3ujY"
      },
      "source": [
        "#### 63. Create an array class that has a name attribute (★★☆)"
      ]
    },
    {
      "cell_type": "code",
      "execution_count": null,
      "metadata": {
        "colab": {
          "base_uri": "https://localhost:8080/"
        },
        "id": "lSqdHIfU3ujY",
        "outputId": "61939cb5-7767-431e-f132-9e6ba6d376a0"
      },
      "outputs": [
        {
          "output_type": "stream",
          "name": "stdout",
          "text": [
            "Array1:\n",
            "[[1 2 3]]\n",
            "Array2:\n",
            "[[4]\n",
            " [5]\n",
            " [6]]\n",
            "Array1 + Array:\n",
            "[[5 6 7]\n",
            " [6 7 8]\n",
            " [7 8 9]]\n"
          ]
        }
      ],
      "source": [
        "class NamedArray:\n",
        "    def __init__(self, data, name=\"Unnamed Array\"):\n",
        "        # Initialize with data and name\n",
        "        self.data = np.array(data)\n",
        "        self.name = name\n",
        "\n",
        "    def __repr__(self):\n",
        "        # Custom representation to display the name and array data\n",
        "        return f\"{self.name}:\\n{self.data}\"\n",
        "\n",
        "    def __add__(self, other):\n",
        "        # Support element-wise addition with another NamedArray or NumPy array\n",
        "        if isinstance(other, NamedArray):\n",
        "            other = other.data\n",
        "        return NamedArray(self.data + other, name=f\"{self.name} + {other.name if isinstance(other, NamedArray) else 'Array'}\")\n",
        "\n",
        "    # Add other array-like methods as needed, for example, accessing elements:\n",
        "    def __getitem__(self, index):\n",
        "        return self.data[index]\n",
        "\n",
        "# Example usage\n",
        "array1 = NamedArray([[1, 2, 3]], name=\"Array1\")\n",
        "array2 = NamedArray([[4], [5], [6]], name=\"Array2\")\n",
        "\n",
        "# Print arrays\n",
        "print(array1)\n",
        "print(array2)\n",
        "\n",
        "# Perform addition and print result\n",
        "result = array1 + array2\n",
        "print(result)"
      ]
    },
    {
      "cell_type": "markdown",
      "metadata": {
        "id": "CfCGtefh3ujZ"
      },
      "source": [
        "#### 64. Consider a given vector, how to add 1 to each element indexed by a second vector (be careful with repeated indices)? (★★★)"
      ]
    },
    {
      "cell_type": "code",
      "execution_count": null,
      "metadata": {
        "colab": {
          "base_uri": "https://localhost:8080/"
        },
        "id": "lNa--Toq3ujZ",
        "outputId": "1ee5ab37-c071-4848-de5a-50a9556119da"
      },
      "outputs": [
        {
          "output_type": "stream",
          "name": "stdout",
          "text": [
            "Updated vector: [11 22 31 40 51]\n"
          ]
        }
      ],
      "source": [
        "vector = np.array([10, 20, 30, 40, 50])\n",
        "indices = np.array([0, 1, 1, 2, 4])  # Note: index 1 is repeated\n",
        "\n",
        "# Increment each element in 'vector' at the positions specified by 'indices'\n",
        "np.add.at(vector, indices, 1)\n",
        "\n",
        "# Display the result\n",
        "print(\"Updated vector:\", vector)"
      ]
    },
    {
      "cell_type": "markdown",
      "metadata": {
        "id": "hK7Tz-jt3uja"
      },
      "source": [
        "#### 65. How to accumulate elements of a vector (X) to an array (F) based on an index list (I)? (★★★)"
      ]
    },
    {
      "cell_type": "code",
      "execution_count": null,
      "metadata": {
        "colab": {
          "base_uri": "https://localhost:8080/"
        },
        "id": "pXoAfccp3uja",
        "outputId": "73b122fd-c665-458c-d493-f9650120641f"
      },
      "outputs": [
        {
          "output_type": "stream",
          "name": "stdout",
          "text": [
            "Accumulated array F: [30. 25. 20.]\n"
          ]
        }
      ],
      "source": [
        "X = np.array([5, 10, 15, 20, 25])  # Values to accumulate\n",
        "I = np.array([0, 1, 1, 2, 0])      # Index positions in F\n",
        "\n",
        "# Initialize the target array F with zeros (or another base value if needed)\n",
        "F = np.zeros(3)\n",
        "\n",
        "# Accumulate values from X into F at indices specified in I\n",
        "np.add.at(F, I, X)\n",
        "\n",
        "# Display the result\n",
        "print(\"Accumulated array F:\", F)"
      ]
    },
    {
      "cell_type": "markdown",
      "metadata": {
        "id": "-SppgzCn3ujb"
      },
      "source": [
        "#### 66. Considering a (w,h,3) image of (dtype=ubyte), compute the number of unique colors (★★☆)"
      ]
    },
    {
      "cell_type": "code",
      "execution_count": null,
      "metadata": {
        "colab": {
          "base_uri": "https://localhost:8080/"
        },
        "id": "xPx26SQY3ujb",
        "outputId": "23796c2b-c44a-4bac-f189-d7e1eb4a2a7a"
      },
      "outputs": [
        {
          "output_type": "stream",
          "name": "stdout",
          "text": [
            "Number of unique colors: 9997\n"
          ]
        }
      ],
      "source": [
        "# Example image with shape (w, h, 3) and dtype=ubyte\n",
        "# Assuming 'image' is your input image array with shape (w, h, 3)\n",
        "# For demonstration, let's create a random image\n",
        "w, h = 100, 100  # Image width and height\n",
        "image = np.random.randint(0, 256, size=(w, h, 3), dtype=np.uint8)\n",
        "\n",
        "# Reshape the image to a 2D array of pixels, where each row is a color (R, G, B)\n",
        "pixels = image.reshape(-1, 3)\n",
        "\n",
        "# Use np.unique to find unique rows (unique colors), and count them\n",
        "unique_colors = np.unique(pixels, axis=0)\n",
        "num_unique_colors = unique_colors.shape[0]\n",
        "\n",
        "# Display the result\n",
        "print(\"Number of unique colors:\", num_unique_colors)"
      ]
    },
    {
      "cell_type": "markdown",
      "metadata": {
        "id": "1BXFUEAL3ujb"
      },
      "source": [
        "#### 67. Considering a four dimensions array, how to get sum over the last two axis at once? (★★★)"
      ]
    },
    {
      "cell_type": "code",
      "execution_count": null,
      "metadata": {
        "colab": {
          "base_uri": "https://localhost:8080/"
        },
        "id": "xKaUSb4S3ujb",
        "outputId": "65e3ba3f-6aaf-4bf7-d202-1ed305afc4b7"
      },
      "outputs": [
        {
          "output_type": "stream",
          "name": "stdout",
          "text": [
            "Shape of the result: (3, 4)\n",
            "Resulting array after summing over the last two axes:\n",
            " [[14.81200172 12.13530415 13.85613883 14.9914101 ]\n",
            " [16.00591366 14.57075353 16.70375084 16.53702427]\n",
            " [14.45410455 16.490816   16.5064317  13.59735405]]\n"
          ]
        }
      ],
      "source": [
        "# Create a sample 4D array\n",
        "array = np.random.rand(3, 4, 5, 6)  # Shape (3, 4, 5, 6)\n",
        "\n",
        "# Sum over the last two axes (axis -2 and -1)\n",
        "result = array.sum(axis=(-2, -1))\n",
        "\n",
        "# Display the shape and result\n",
        "print(\"Shape of the result:\", result.shape)\n",
        "print(\"Resulting array after summing over the last two axes:\\n\", result)"
      ]
    },
    {
      "cell_type": "markdown",
      "metadata": {
        "id": "6lNqqBrz3ujc"
      },
      "source": [
        "#### 68. Considering a one-dimensional vector D, how to compute means of subsets of D using a vector S of same size describing subset  indices? (★★★)"
      ]
    },
    {
      "cell_type": "code",
      "execution_count": 15,
      "metadata": {
        "id": "SVOmlaWe3ujc",
        "colab": {
          "base_uri": "https://localhost:8080/"
        },
        "outputId": "6f4ea41e-1dea-4fe5-9a74-bec7c884ba3d"
      },
      "outputs": [
        {
          "output_type": "stream",
          "name": "stdout",
          "text": [
            "[6.5, 4.5, 6.0]\n"
          ]
        }
      ],
      "source": [
        "D = np.array([5, 8, 2, 7, 6])\n",
        "S = np.array([1, 1, 2, 2, 3])\n",
        "\n",
        "# Unique subset indices\n",
        "unique_subsets = np.unique(S)\n",
        "\n",
        "# Compute means for each subset\n",
        "means = [D[S == subset].mean() for subset in unique_subsets]\n",
        "\n",
        "print(means)"
      ]
    },
    {
      "cell_type": "markdown",
      "metadata": {
        "id": "s2qf0EOi3ujc"
      },
      "source": [
        "#### 69. How to get the diagonal of a dot product? (★★★)"
      ]
    },
    {
      "cell_type": "code",
      "execution_count": 16,
      "metadata": {
        "id": "m96-MPX13ujc",
        "colab": {
          "base_uri": "https://localhost:8080/"
        },
        "outputId": "428d047a-c152-454b-bcd9-f7f5f9ee71ba"
      },
      "outputs": [
        {
          "output_type": "stream",
          "name": "stdout",
          "text": [
            "[19 50]\n"
          ]
        }
      ],
      "source": [
        "A = np.array([[1, 2], [3, 4]])\n",
        "B = np.array([[5, 6], [7, 8]])\n",
        "\n",
        "# Compute the dot product\n",
        "C = np.dot(A, B)\n",
        "\n",
        "# Get the diagonal\n",
        "diagonal = np.diagonal(C)\n",
        "\n",
        "print(diagonal)"
      ]
    },
    {
      "cell_type": "markdown",
      "metadata": {
        "id": "MXKi9m7T3ujd"
      },
      "source": [
        "#### 70. Consider the vector [1, 2, 3, 4, 5], how to build a new vector with 3 consecutive zeros interleaved between each value? (★★★)"
      ]
    },
    {
      "cell_type": "code",
      "execution_count": 17,
      "metadata": {
        "id": "cTBjRpR03ujd",
        "colab": {
          "base_uri": "https://localhost:8080/"
        },
        "outputId": "399a42c8-874a-460b-e13c-19447f669383"
      },
      "outputs": [
        {
          "output_type": "stream",
          "name": "stdout",
          "text": [
            "[1 0 0 0 2 0 0 0 3 0 0 0 4 0 0 0 5]\n"
          ]
        }
      ],
      "source": [
        "original_vector = np.array([1, 2, 3, 4, 5])\n",
        "\n",
        "# Create a new vector with 3 zeros between each element\n",
        "new_vector = np.zeros(len(original_vector) * 4 - 3, dtype=int)  # Length of the new vector\n",
        "\n",
        "# Fill the new vector with the original values\n",
        "new_vector[::4] = original_vector\n",
        "\n",
        "print(new_vector)"
      ]
    },
    {
      "cell_type": "markdown",
      "metadata": {
        "id": "Sr_K_hRS3ujd"
      },
      "source": [
        "#### 71. Consider an array of dimension (5,5,3), how to mulitply it by an array with dimensions (5,5)? (★★★)"
      ]
    },
    {
      "cell_type": "code",
      "execution_count": 18,
      "metadata": {
        "id": "37qV7TbW3uje",
        "colab": {
          "base_uri": "https://localhost:8080/"
        },
        "outputId": "c34ec4f8-97d5-43f2-be5e-1d38ca9e76c0"
      },
      "outputs": [
        {
          "output_type": "stream",
          "name": "stdout",
          "text": [
            "(5, 5, 3)\n"
          ]
        }
      ],
      "source": [
        "array_1 = np.random.rand(5, 5, 3)  # Array of shape (5, 5, 3)\n",
        "array_2 = np.random.rand(5, 5)     # Array of shape (5, 5)\n",
        "\n",
        "# Broadcast array_2 to shape (5, 5, 3) and perform element-wise multiplication\n",
        "result = array_1 * array_2[..., np.newaxis]\n",
        "\n",
        "print(result.shape)"
      ]
    },
    {
      "cell_type": "markdown",
      "metadata": {
        "id": "lThBtuLs3uje"
      },
      "source": [
        "#### 72. How to swap two rows of an array? (★★★)"
      ]
    },
    {
      "cell_type": "code",
      "execution_count": 19,
      "metadata": {
        "id": "XDP8Z9AT3uje",
        "colab": {
          "base_uri": "https://localhost:8080/"
        },
        "outputId": "af69369f-0713-4252-978c-846eabbfe73f"
      },
      "outputs": [
        {
          "output_type": "stream",
          "name": "stdout",
          "text": [
            "[[ 1  2  3  4  5]\n",
            " [16 17 18 19 20]\n",
            " [11 12 13 14 15]\n",
            " [ 6  7  8  9 10]\n",
            " [21 22 23 24 25]]\n"
          ]
        }
      ],
      "source": [
        "array = np.array([[1, 2, 3, 4, 5],\n",
        "                  [6, 7, 8, 9, 10],\n",
        "                  [11, 12, 13, 14, 15],\n",
        "                  [16, 17, 18, 19, 20],\n",
        "                  [21, 22, 23, 24, 25]])\n",
        "\n",
        "# Row indices to swap\n",
        "i, j = 1, 3  # Swap the 2nd row with the 4th row (indexing starts at 0)\n",
        "\n",
        "# Swap the rows\n",
        "array[[i, j]] = array[[j, i]]\n",
        "\n",
        "print(array)\n"
      ]
    },
    {
      "cell_type": "markdown",
      "metadata": {
        "id": "yWHglhvo3uje"
      },
      "source": [
        "#### 73. Consider a set of 10 triplets describing 10 triangles (with shared vertices), find the set of unique line segments composing all the  triangles (★★★)"
      ]
    },
    {
      "cell_type": "code",
      "execution_count": 20,
      "metadata": {
        "id": "mA2prR0y3ujf",
        "colab": {
          "base_uri": "https://localhost:8080/"
        },
        "outputId": "46deb087-612b-403a-b239-86ae9f49cf66"
      },
      "outputs": [
        {
          "output_type": "stream",
          "name": "stdout",
          "text": [
            "Unique line segments: {(3, 4), (4, 6), (5, 7), (8, 9), (1, 3), (1, 9), (6, 8), (4, 5), (5, 6), (9, 10), (2, 4), (1, 2), (2, 10), (7, 9), (6, 7), (3, 5), (8, 10), (2, 3), (1, 10), (7, 8)}\n"
          ]
        }
      ],
      "source": [
        "triangles = [\n",
        "    (1, 2, 3), (2, 3, 4), (3, 4, 5), (4, 5, 6),\n",
        "    (5, 6, 7), (6, 7, 8), (7, 8, 9), (8, 9, 10),\n",
        "    (9, 10, 1), (10, 1, 2)\n",
        "]\n",
        "\n",
        "# Function to generate unique line segments from the triangles\n",
        "def get_unique_line_segments(triangles):\n",
        "    line_segments = set()\n",
        "\n",
        "    for triangle in triangles:\n",
        "        # For each triangle, generate the three line segments\n",
        "        for i in range(3):\n",
        "            # Each segment is formed by two vertices\n",
        "            segment = tuple(sorted((triangle[i], triangle[(i + 1) % 3])))\n",
        "            line_segments.add(segment)\n",
        "\n",
        "    return line_segments\n",
        "\n",
        "# Get the set of unique line segments\n",
        "unique_segments = get_unique_line_segments(triangles)\n",
        "\n",
        "# Display the unique line segments\n",
        "print(\"Unique line segments:\", unique_segments)"
      ]
    },
    {
      "cell_type": "markdown",
      "metadata": {
        "id": "hOcpK3K73ujf"
      },
      "source": [
        "#### 74. Given a sorted array C that corresponds to a bincount, how to produce an array A such that np.bincount(A) == C? (★★★)"
      ]
    },
    {
      "cell_type": "code",
      "execution_count": 21,
      "metadata": {
        "id": "WKf4bFkv3ujf",
        "colab": {
          "base_uri": "https://localhost:8080/"
        },
        "outputId": "90d63896-1f7c-4617-cee5-420ed02170aa"
      },
      "outputs": [
        {
          "output_type": "stream",
          "name": "stdout",
          "text": [
            "[0 1 1 3 3 3 5]\n"
          ]
        }
      ],
      "source": [
        "C = np.array([1, 2, 0, 3, 0, 1])\n",
        "\n",
        "# Create array A by repeating each index i according to C[i]\n",
        "A = np.concatenate([np.full(count, i) for i, count in enumerate(C)])\n",
        "\n",
        "print(A)"
      ]
    },
    {
      "cell_type": "markdown",
      "metadata": {
        "id": "4wHG35Kk3ujg"
      },
      "source": [
        "#### 75. How to compute averages using a sliding window over an array? (★★★)"
      ]
    },
    {
      "cell_type": "code",
      "execution_count": 22,
      "metadata": {
        "id": "FNvhl5o33ujg",
        "colab": {
          "base_uri": "https://localhost:8080/"
        },
        "outputId": "62856d81-a9c4-46e2-b9ef-482771d84125"
      },
      "outputs": [
        {
          "output_type": "stream",
          "name": "stdout",
          "text": [
            "[2. 3. 4. 5. 6. 7. 8. 9.]\n"
          ]
        }
      ],
      "source": [
        "def sliding_window_average(arr, window_size):\n",
        "    # Create a kernel (filter) with equal weights for the moving average\n",
        "    kernel = np.ones(window_size) / window_size\n",
        "\n",
        "    # Apply the convolution with 'valid' mode to compute the average in sliding windows\n",
        "    return np.convolve(arr, kernel, mode='valid')\n",
        "\n",
        "# Example usage\n",
        "arr = np.array([1, 2, 3, 4, 5, 6, 7, 8, 9, 10])\n",
        "window_size = 3\n",
        "averages = sliding_window_average(arr, window_size)\n",
        "\n",
        "print(averages)"
      ]
    },
    {
      "cell_type": "markdown",
      "metadata": {
        "id": "IefjSOmC3ujh"
      },
      "source": [
        "#### 76. Consider a one-dimensional array Z, build a two-dimensional array whose first row is (Z[0],Z[1],Z[2]) and each subsequent row is  shifted by 1 (last row should be (Z[-3],Z[-2],Z[-1]) (★★★)"
      ]
    },
    {
      "cell_type": "code",
      "execution_count": 23,
      "metadata": {
        "id": "C_GlCn5B3ujh",
        "colab": {
          "base_uri": "https://localhost:8080/"
        },
        "outputId": "05c278c5-f911-44c8-f487-2d03ae035a3d"
      },
      "outputs": [
        {
          "output_type": "stream",
          "name": "stdout",
          "text": [
            "[[1 2 3]\n",
            " [2 3 4]\n",
            " [3 4 5]\n",
            " [4 5 6]\n",
            " [5 6 7]\n",
            " [6 7 8]\n",
            " [7 8 9]]\n"
          ]
        }
      ],
      "source": [
        "def build_shifted_array(Z, window_size=3):\n",
        "    # Create a 2D array where each row is a shifted version of the previous row\n",
        "    return np.array([Z[i:i + window_size] for i in range(len(Z) - window_size + 1)])\n",
        "\n",
        "# Example usage\n",
        "Z = np.array([1, 2, 3, 4, 5, 6, 7, 8, 9])\n",
        "result = build_shifted_array(Z)\n",
        "\n",
        "print(result)"
      ]
    },
    {
      "cell_type": "markdown",
      "metadata": {
        "id": "H_SkX5f63ujh"
      },
      "source": [
        "#### 77. How to negate a boolean, or to change the sign of a float inplace? (★★★)"
      ]
    },
    {
      "cell_type": "code",
      "execution_count": 24,
      "metadata": {
        "id": "iJuuLwrt3ujh",
        "colab": {
          "base_uri": "https://localhost:8080/"
        },
        "outputId": "348d1285-74b0-4963-b3b3-af17c1205711"
      },
      "outputs": [
        {
          "output_type": "stream",
          "name": "stdout",
          "text": [
            "[-1.5  2.5 -3.5  4.5]\n"
          ]
        }
      ],
      "source": [
        "arr = np.array([1.5, -2.5, 3.5, -4.5])\n",
        "\n",
        "# Changing the sign of each element in place\n",
        "arr = -arr  # Inverting the sign of all elements\n",
        "\n",
        "print(arr)"
      ]
    },
    {
      "cell_type": "markdown",
      "metadata": {
        "id": "WL8vhiHY3ujh"
      },
      "source": [
        "#### 78. Consider 2 sets of points P0,P1 describing lines (2d) and a point p, how to compute distance from p to each line i (P0[i],P1[i])? (★★★)"
      ]
    },
    {
      "cell_type": "code",
      "execution_count": 35,
      "metadata": {
        "id": "lzdvAZ2w3uji",
        "colab": {
          "base_uri": "https://localhost:8080/"
        },
        "outputId": "b91e8051-223d-4d3d-9c0b-fb816eb0b569"
      },
      "outputs": [
        {
          "output_type": "stream",
          "name": "stdout",
          "text": [
            "Distances from point p to each line: [0.0, 0.0, 0.0]\n"
          ]
        }
      ],
      "source": [
        "\n",
        "def point_to_line_distance(p, P0, P1):\n",
        "    \"\"\"\n",
        "    Compute the perpendicular distance from point p to the line defined by points P0 and P1.\n",
        "    p, P0, P1 are 2D points (tuples or arrays).\n",
        "    \"\"\"\n",
        "    x_p, y_p = p\n",
        "    x_0, y_0 = P0\n",
        "    x_1, y_1 = P1\n",
        "\n",
        "    # Line equation: Ax + By + C = 0\n",
        "    A = y_1 - y_0\n",
        "    B = x_0 - x_1\n",
        "    C = x_1 * y_0 - y_1 * x_0\n",
        "\n",
        "    # Distance from point (x_p, y_p) to line\n",
        "    distance = abs(A * x_p + B * y_p + C) / np.sqrt(A**2 + B**2)\n",
        "\n",
        "    return distance\n",
        "\n",
        "# Example: 2 sets of points P0 and P1 defining lines and a point p\n",
        "P0 = np.array([[1, 2], [3, 4], [5, 6]])  # 3 lines defined by points P0\n",
        "P1 = np.array([[7, 8], [9, 10], [11, 12]])  # 3 lines defined by points P1\n",
        "p = np.array([2, 3])  # A single point\n",
        "\n",
        "# Compute the distance from point p to each line defined by P0[i] and P1[i]\n",
        "distances = [point_to_line_distance(p, P0[i], P1[i]) for i in range(len(P0))]\n",
        "\n",
        "print(\"Distances from point p to each line:\", distances)"
      ]
    },
    {
      "cell_type": "markdown",
      "metadata": {
        "id": "_up6N9YJ3uji"
      },
      "source": [
        "#### 79. Consider 2 sets of points P0,P1 describing lines (2d) and a set of points P, how to compute distance from each point j (P[j]) to each line i (P0[i],P1[i])? (★★★)"
      ]
    },
    {
      "cell_type": "code",
      "execution_count": 36,
      "metadata": {
        "id": "g5QiaD6n3ujk",
        "colab": {
          "base_uri": "https://localhost:8080/"
        },
        "outputId": "be12c33b-f097-4b73-a27d-7fab71e76aea"
      },
      "outputs": [
        {
          "output_type": "stream",
          "name": "stdout",
          "text": [
            "Distances from each point to each line:\n",
            "[[0. 0. 0.]\n",
            " [0. 0. 0.]\n",
            " [0. 0. 0.]]\n"
          ]
        }
      ],
      "source": [
        "def point_to_line_distance(p, P0, P1):\n",
        "    \"\"\"\n",
        "    Compute the perpendicular distance from point p to the line defined by points P0 and P1.\n",
        "    p, P0, P1 are 2D points (tuples or arrays).\n",
        "    \"\"\"\n",
        "    x_p, y_p = p\n",
        "    x_0, y_0 = P0\n",
        "    x_1, y_1 = P1\n",
        "\n",
        "    # Line equation: Ax + By + C = 0\n",
        "    A = y_1 - y_0\n",
        "    B = x_0 - x_1\n",
        "    C = x_1 * y_0 - y_1 * x_0\n",
        "\n",
        "    # Distance from point (x_p, y_p) to line\n",
        "    distance = abs(A * x_p + B * y_p + C) / np.sqrt(A**2 + B**2)\n",
        "\n",
        "    return distance\n",
        "\n",
        "# Example: 2 sets of points P0 and P1 defining lines and a set of points P\n",
        "P0 = np.array([[1, 2], [3, 4], [5, 6]])  # 3 lines defined by points P0\n",
        "P1 = np.array([[7, 8], [9, 10], [11, 12]])  # 3 lines defined by points P\n",
        "P = np.array([[2, 3], [4, 5], [6, 7]])  # 3 points to compute distances from\n",
        "\n",
        "# Compute the distance from each point P[j] to each line defined by P0[i] and P1[i]\n",
        "distances = np.zeros((len(P), len(P0)))  # Shape (num_points, num_lines)\n",
        "\n",
        "# Loop over each point and each line\n",
        "for j in range(len(P)):\n",
        "    for i in range(len(P0)):\n",
        "        distances[j, i] = point_to_line_distance(P[j], P0[i], P1[i])\n",
        "\n",
        "print(\"Distances from each point to each line:\")\n",
        "print(distances)"
      ]
    },
    {
      "cell_type": "markdown",
      "metadata": {
        "id": "-rkxZPCk3ujk"
      },
      "source": [
        "#### 80. Consider an arbitrary array, write a function that extract a subpart with a fixed shape and centered on a given element (pad with a `fill` value when necessary) (★★★)"
      ]
    },
    {
      "cell_type": "code",
      "execution_count": 40,
      "metadata": {
        "id": "iklqZ8Ta3ujk"
      },
      "outputs": [],
      "source": [
        "import numpy as np\n",
        "\n",
        "def extract_subarray(arr, shape, center, fill_value=0):\n",
        "    # Convert the array to a numpy array for easier manipulation\n",
        "    arr = np.asarray(arr)\n",
        "\n",
        "    # Get the dimensions of the array and the subarray\n",
        "    arr_shape = arr.shape\n",
        "    subarray_shape = tuple(shape)\n",
        "\n",
        "    # Calculate the padding needed\n",
        "    padding = [(s // 2, s - s // 2) for s in subarray_shape]\n",
        "\n",
        "    # Initialize the output subarray filled with the fill_value\n",
        "    subarray = np.full(subarray_shape, fill_value)\n",
        "\n",
        "    # Calculate the range for the subarray extraction\n",
        "    ranges = []\n",
        "    for dim, pad, size in zip(center, padding, subarray_shape):\n",
        "        start = max(0, dim - pad[0])\n",
        "        end = min(arr_shape[dim], dim + pad[1])\n",
        "        ranges.append(slice(start, end))\n",
        "\n",
        "    return subarray\n",
        "\n",
        "# Test the function\n",
        "arr = np.array([ [ 1,  2,  3], [ 4,  5,  6], [ 7,  8,  9]])\n",
        "center = (1, 1)\n",
        "shape =(3,  3)\n",
        "output = extract_subarray(arr , shape , center )\n"
      ]
    },
    {
      "cell_type": "markdown",
      "metadata": {
        "id": "7you90zX3ujk"
      },
      "source": [
        "#### 81. Consider an array Z = [1,2,3,4,5,6,7,8,9,10,11,12,13,14], how to generate an array R = [[1,2,3,4], [2,3,4,5], [3,4,5,6], ..., [11,12,13,14]]? (★★★)"
      ]
    },
    {
      "cell_type": "code",
      "execution_count": 41,
      "metadata": {
        "id": "vK_s16j13ujl",
        "colab": {
          "base_uri": "https://localhost:8080/"
        },
        "outputId": "6ba5941e-7f63-4a62-b765-981457f86964"
      },
      "outputs": [
        {
          "output_type": "stream",
          "name": "stdout",
          "text": [
            "[[ 1  2  3  4]\n",
            " [ 2  3  4  5]\n",
            " [ 3  4  5  6]\n",
            " [ 4  5  6  7]\n",
            " [ 5  6  7  8]\n",
            " [ 6  7  8  9]\n",
            " [ 7  8  9 10]\n",
            " [ 8  9 10 11]\n",
            " [ 9 10 11 12]\n",
            " [10 11 12 13]\n",
            " [11 12 13 14]]\n"
          ]
        }
      ],
      "source": [
        "Z = np.array([1, 2, 3, 4, 5, 6, 7, 8, 9, 10, 11, 12, 13, 14])\n",
        "\n",
        "# Window size\n",
        "window_size = 4\n",
        "\n",
        "# Use sliding_window_view to generate the rolling windows\n",
        "R = np.lib.stride_tricks.sliding_window_view(Z, window_shape=window_size)\n",
        "\n",
        "print(R)"
      ]
    },
    {
      "cell_type": "markdown",
      "metadata": {
        "id": "rhwEVh-I3ujl"
      },
      "source": [
        "#### 82. Compute a matrix rank (★★★)"
      ]
    },
    {
      "cell_type": "code",
      "execution_count": 42,
      "metadata": {
        "id": "f2U2sQQH3ujl",
        "colab": {
          "base_uri": "https://localhost:8080/"
        },
        "outputId": "64d70d43-9362-406f-e59d-1d9cd745c130"
      },
      "outputs": [
        {
          "output_type": "stream",
          "name": "stdout",
          "text": [
            "Matrix Rank: 2\n"
          ]
        }
      ],
      "source": [
        "A = np.array([\n",
        "    [1, 2, 3],\n",
        "    [4, 5, 6],\n",
        "    [7, 8, 9]\n",
        "])\n",
        "\n",
        "# Compute the rank of the matrix\n",
        "rank = np.linalg.matrix_rank(A)\n",
        "\n",
        "print(\"Matrix Rank:\", rank)"
      ]
    },
    {
      "cell_type": "markdown",
      "metadata": {
        "id": "CxmNO8P13ujl"
      },
      "source": [
        "#### 83. How to find the most frequent value in an array?"
      ]
    },
    {
      "cell_type": "code",
      "execution_count": 46,
      "metadata": {
        "id": "3kqdrSM43ujm",
        "colab": {
          "base_uri": "https://localhost:8080/"
        },
        "outputId": "04682853-4db1-4709-d284-496408dd8e29"
      },
      "outputs": [
        {
          "output_type": "stream",
          "name": "stdout",
          "text": [
            "Most frequent value: 4, Frequency: 4\n"
          ]
        }
      ],
      "source": [
        "from collections import Counter\n",
        "\n",
        "arr = [1, 2, 2, 3, 3, 3, 4, 4, 4, 4]\n",
        "\n",
        "counter = Counter(arr)\n",
        "\n",
        "# Find the most common element and its frequency\n",
        "most_common_value, frequency = counter.most_common(1)[0]\n",
        "\n",
        "print(f\"Most frequent value: {most_common_value}, Frequency: {frequency}\")"
      ]
    },
    {
      "cell_type": "markdown",
      "metadata": {
        "id": "2Y0zcz7W3ujm"
      },
      "source": [
        "#### 84. Extract all the contiguous 3x3 blocks from a random 10x10 matrix (★★★)"
      ]
    },
    {
      "cell_type": "code",
      "execution_count": 3,
      "metadata": {
        "id": "202WO1xL3ujm",
        "colab": {
          "base_uri": "https://localhost:8080/"
        },
        "outputId": "469daf54-278d-4a46-a85b-c8f99073be2f"
      },
      "outputs": [
        {
          "output_type": "stream",
          "name": "stdout",
          "text": [
            "Generated 10x10 Matrix:\n",
            "[[7 8 7 6 0 6 5 6 4 2]\n",
            " [0 2 3 8 2 6 8 6 7 9]\n",
            " [4 5 8 5 1 8 1 2 2 4]\n",
            " [2 0 9 6 1 5 6 5 5 7]\n",
            " [4 5 2 4 6 7 9 8 0 1]\n",
            " [5 7 4 5 8 3 5 9 8 8]\n",
            " [3 4 6 9 0 2 6 9 7 6]\n",
            " [0 0 2 2 8 5 5 0 5 1]\n",
            " [1 7 4 2 4 4 2 1 9 8]\n",
            " [8 8 5 1 4 5 8 8 3 6]]\n",
            "\n",
            "Number of 3x3 blocks: 64\n",
            "\n",
            "First 5 Blocks:\n",
            "Block 1:\n",
            "[[7 8 7]\n",
            " [0 2 3]\n",
            " [4 5 8]]\n",
            "Block 2:\n",
            "[[8 7 6]\n",
            " [2 3 8]\n",
            " [5 8 5]]\n",
            "Block 3:\n",
            "[[7 6 0]\n",
            " [3 8 2]\n",
            " [8 5 1]]\n",
            "Block 4:\n",
            "[[6 0 6]\n",
            " [8 2 6]\n",
            " [5 1 8]]\n",
            "Block 5:\n",
            "[[0 6 5]\n",
            " [2 6 8]\n",
            " [1 8 1]]\n"
          ]
        }
      ],
      "source": [
        "# Generate a random 10x10 matrix\n",
        "matrix = np.random.randint(0, 10, (10, 10))\n",
        "\n",
        "# Function to extract all 3x3 contiguous blocks\n",
        "def extract_3x3_blocks(mat):\n",
        "    rows, cols = mat.shape\n",
        "    blocks = []\n",
        "    for i in range(rows - 2):\n",
        "        for j in range(cols - 2):\n",
        "            block = mat[i:i+3, j:j+3]\n",
        "            blocks.append(block)\n",
        "    return blocks\n",
        "\n",
        "# Extract the 3x3 blocks\n",
        "blocks = extract_3x3_blocks(matrix)\n",
        "\n",
        "# Display the results\n",
        "print(\"Generated 10x10 Matrix:\")\n",
        "print(matrix)\n",
        "print(f\"\\nNumber of 3x3 blocks: {len(blocks)}\")\n",
        "print(\"\\nFirst 5 Blocks:\")\n",
        "for idx, block in enumerate(blocks[:5], start=1):\n",
        "    print(f\"Block {idx}:\\n{block}\")"
      ]
    },
    {
      "cell_type": "markdown",
      "metadata": {
        "id": "4KzBHN-O3ujm"
      },
      "source": [
        "#### 85. Create a 2D array subclass such that Z[i,j] == Z[j,i] (★★★)"
      ]
    },
    {
      "cell_type": "code",
      "execution_count": 32,
      "metadata": {
        "id": "g7UuSuww3ujn",
        "colab": {
          "base_uri": "https://localhost:8080/"
        },
        "outputId": "8d1bb433-5904-49e4-84c7-e8aa51959d38"
      },
      "outputs": [
        {
          "output_type": "stream",
          "name": "stdout",
          "text": [
            "[[0. 0. 0. 0.]\n",
            " [0. 0. 5. 0.]\n",
            " [0. 5. 0. 0.]\n",
            " [0. 0. 0. 0.]]\n",
            "5.0\n"
          ]
        }
      ],
      "source": [
        "\n",
        "\n",
        "class SymmetricMatrix(np.ndarray):\n",
        "    def __new__(cls, shape, dtype=float, buffer=None, offset=0, strides=None, order=None):\n",
        "        # Create the base ndarray using np.ndarray's new function\n",
        "        obj = super(SymmetricMatrix, cls).__new__(cls, shape, dtype, buffer, offset, strides, order)\n",
        "        return obj\n",
        "\n",
        "    def __getitem__(self, key):\n",
        "        # Return the element at [i, j], ensuring symmetry: Z[i, j] == Z[j, i]\n",
        "        i, j = key\n",
        "        return super(SymmetricMatrix, self).__getitem__((i, j))  # Fetch from original ndarray\n",
        "\n",
        "    def __setitem__(self, key, value):\n",
        "        # Set the element at [i, j], ensuring symmetry: Z[i, j] == Z[j, i]\n",
        "        i, j = key\n",
        "        super(SymmetricMatrix, self).__setitem__((i, j), value)\n",
        "        if i != j:  # Enforce symmetry by also setting Z[j, i]\n",
        "            super(SymmetricMatrix, self).__setitem__((j, i), value)\n",
        "\n",
        "# Create a symmetric matrix\n",
        "shape = (4, 4)\n",
        "matrix = np.zeros(shape, dtype=float)\n",
        "\n",
        "# Convert the ndarray into a SymmetricMatrix\n",
        "symmetric_matrix = matrix.view(SymmetricMatrix)\n",
        "\n",
        "# Test setting and getting elements\n",
        "symmetric_matrix[1, 2] = 5\n",
        "print(symmetric_matrix)\n",
        "print(symmetric_matrix[2, 1])\n"
      ]
    },
    {
      "cell_type": "markdown",
      "metadata": {
        "id": "EPsrHpVR3ujn"
      },
      "source": [
        "#### 86. Consider a set of p matrices wich shape (n,n) and a set of p vectors with shape (n,1). How to compute the sum of of the p matrix products at once? (result has shape (n,1)) (★★★)"
      ]
    },
    {
      "cell_type": "code",
      "execution_count": 33,
      "metadata": {
        "id": "qlPGfF3N3ujn",
        "colab": {
          "base_uri": "https://localhost:8080/"
        },
        "outputId": "70221fa3-6a53-4d34-bb57-21e0179fbbff"
      },
      "outputs": [
        {
          "output_type": "stream",
          "name": "stdout",
          "text": [
            "Resulting sum of matrix products:\n",
            " [[4.11626582]\n",
            " [3.65491122]\n",
            " [3.27916208]]\n"
          ]
        }
      ],
      "source": [
        "p = 5  # Number of matrices and vectors\n",
        "n = 3  # Dimension of each matrix and vector\n",
        "\n",
        "# Create a list of p random matrices (n x n) and p random vectors (n x 1)\n",
        "A_list = [np.random.rand(n, n) for _ in range(p)]\n",
        "b_list = [np.random.rand(n, 1) for _ in range(p)]\n",
        "\n",
        "# Using list comprehension to compute the sum of matrix-vector products\n",
        "result = sum(A @ b for A, b in zip(A_list, b_list))\n",
        "\n",
        "print(\"Resulting sum of matrix products:\\n\", result)"
      ]
    },
    {
      "cell_type": "markdown",
      "metadata": {
        "id": "Gbr__ZKP3ujn"
      },
      "source": [
        "#### 87. Consider a 16x16 array, how to get the block-sum (block size is 4x4)? (★★★)"
      ]
    },
    {
      "cell_type": "code",
      "execution_count": 29,
      "metadata": {
        "id": "j2MRsiaB3ujo",
        "colab": {
          "base_uri": "https://localhost:8080/"
        },
        "outputId": "96d0c98f-5de3-47ed-9599-16252b0ec729"
      },
      "outputs": [
        {
          "output_type": "stream",
          "name": "stdout",
          "text": [
            "Original Array:\n",
            " [[9 9 6 1 2 9 6 8 4 6 8 3 8 4 3 3]\n",
            " [5 8 9 2 1 5 3 6 5 9 8 2 7 1 9 8]\n",
            " [7 6 2 6 8 7 6 4 3 1 1 8 8 4 8 3]\n",
            " [6 9 9 9 1 2 5 2 3 3 1 5 5 1 4 8]\n",
            " [6 4 7 1 2 6 8 5 6 9 4 1 4 8 5 1]\n",
            " [3 1 2 7 8 3 9 3 9 5 6 2 7 1 2 4]\n",
            " [1 6 1 7 3 5 5 7 3 1 1 1 3 2 7 1]\n",
            " [2 7 3 5 7 6 5 1 2 6 3 4 4 6 8 9]\n",
            " [8 7 1 2 4 1 5 1 2 7 6 5 6 4 2 8]\n",
            " [7 6 7 6 2 4 8 3 2 4 1 1 7 9 7 5]\n",
            " [3 6 4 9 5 5 1 2 3 7 1 2 9 1 8 5]\n",
            " [7 6 9 1 6 5 1 7 8 4 9 1 9 5 1 1]\n",
            " [8 3 9 2 6 9 5 5 5 7 1 5 5 2 5 1]\n",
            " [7 4 6 9 7 2 8 4 3 9 2 7 5 9 8 1]\n",
            " [6 8 8 8 6 3 4 3 7 6 4 6 3 2 8 8]\n",
            " [9 6 4 6 9 6 5 4 3 5 1 1 2 8 7 9]]\n",
            "\n",
            "Block Sum (4x4 blocks):\n",
            " [[103  75  70  84]\n",
            " [ 63  83  63  72]\n",
            " [ 89  60  63  87]\n",
            " [103  86  72  83]]\n"
          ]
        }
      ],
      "source": [
        "array = np.random.randint(1, 10, size=(16, 16))\n",
        "\n",
        "# Reshape the array to (4, 4, 4, 4) and sum along the 1st and 3rd axes (the block axes)\n",
        "block_sum = array.reshape(4, 4, 4, 4).sum(axis=(1, 3))\n",
        "\n",
        "print(\"Original Array:\\n\", array)\n",
        "print(\"\\nBlock Sum (4x4 blocks):\\n\", block_sum)"
      ]
    },
    {
      "cell_type": "markdown",
      "metadata": {
        "id": "o2JtUiOq3ujo"
      },
      "source": [
        "#### 88. How to implement the Game of Life using numpy arrays? (★★★)"
      ]
    },
    {
      "cell_type": "code",
      "execution_count": 28,
      "metadata": {
        "id": "K_tbEfiJ3ujo",
        "colab": {
          "base_uri": "https://localhost:8080/",
          "height": 452
        },
        "outputId": "b2be012f-d658-4d55-fa51-a1792ca3dc04"
      },
      "outputs": [
        {
          "output_type": "display_data",
          "data": {
            "text/plain": [
              "<Figure size 640x480 with 1 Axes>"
            ],
            "image/png": "[encoded data removed]"
          },
          "metadata": {}
        }
      ],
      "source": [
        "import numpy as np\n",
        "import matplotlib.pyplot as plt\n",
        "import matplotlib.animation as animation\n",
        "\n",
        "# Function to count the number of live neighbors for each cell\n",
        "def count_neighbors(grid):\n",
        "    # Create a kernel that represents the relative positions of neighbors\n",
        "    kernel = np.array([[1, 1, 1],\n",
        "                       [1, 0, 1],\n",
        "                       [1, 1, 1]])\n",
        "\n",
        "    # Use convolution to count neighbors, edge cells are treated as having zero neighbors\n",
        "    return np.pad(np.convolve(grid, kernel, mode='same'), 1, mode='constant', constant_values=0)\n",
        "\n",
        "# Function to implement one step of the Game of Life\n",
        "def game_of_life_step(grid):\n",
        "    # Count neighbors of each cell\n",
        "    neighbors = count_neighbors(grid)\n",
        "\n",
        "    # Apply the Game of Life rules\n",
        "    new_grid = (neighbors == 3) | ((grid == 1) & (neighbors == 2))\n",
        "\n",
        "    return new_grid.astype(int)\n",
        "\n",
        "# Function to generate a random initial grid\n",
        "def random_grid(rows, cols):\n",
        "    return np.random.randint(0, 2, size=(rows, cols))\n",
        "\n",
        "# Visualization using matplotlib\n",
        "def animate(i, img, grid):\n",
        "    grid[:] = game_of_life_step(grid)  # Update the grid\n",
        "    img.set_data(grid)  # Update the image data\n",
        "    return img,\n",
        "\n",
        "# Create an initial random grid\n",
        "rows, cols = 50, 50\n",
        "grid = random_grid(rows, cols)\n",
        "\n",
        "# Set up the figure for plotting\n",
        "fig, ax = plt.subplots()\n",
        "img = ax.imshow(grid, cmap='gray', interpolation='nearest')\n",
        "ax.set_title(\"Conway's Game of Life\")\n",
        "\n",
        "# Create an animation\n",
        "ani = animation.FuncAnimation(fig, animate, fargs=(img, grid), interval=100, save_count=50)\n",
        "\n",
        "plt.show()\n"
      ]
    },
    {
      "cell_type": "markdown",
      "metadata": {
        "id": "PmoBFehg3ujp"
      },
      "source": [
        "#### 89. How to get the n largest values of an array (★★★)"
      ]
    },
    {
      "cell_type": "code",
      "execution_count": 27,
      "metadata": {
        "id": "OAUPJxiI3ujp",
        "colab": {
          "base_uri": "https://localhost:8080/"
        },
        "outputId": "ba19bb71-931b-47b9-df79-8ea0c1159f1b"
      },
      "outputs": [
        {
          "output_type": "stream",
          "name": "stdout",
          "text": [
            "[9, 8, 7]\n"
          ]
        }
      ],
      "source": [
        "import heapq\n",
        "\n",
        "# Example array\n",
        "arr = [1, 3, 5, 7, 9, 2, 4, 6, 8]\n",
        "\n",
        "# Get the 3 largest values\n",
        "n_largest = heapq.nlargest(3, arr)\n",
        "\n",
        "print(n_largest)\n"
      ]
    },
    {
      "cell_type": "markdown",
      "metadata": {
        "id": "KNjcg72R3ujp"
      },
      "source": [
        "#### 90. Given an arbitrary number of vectors, build the cartesian product (every combinations of every item) (★★★)"
      ]
    },
    {
      "cell_type": "code",
      "execution_count": 26,
      "metadata": {
        "id": "lhX4dFmD3ujp",
        "colab": {
          "base_uri": "https://localhost:8080/"
        },
        "outputId": "5a720169-a766-44f2-d347-7f9177f58d68"
      },
      "outputs": [
        {
          "output_type": "stream",
          "name": "stdout",
          "text": [
            "[(1, 'a', True), (1, 'a', False), (1, 'b', True), (1, 'b', False), (2, 'a', True), (2, 'a', False), (2, 'b', True), (2, 'b', False)]\n"
          ]
        }
      ],
      "source": [
        "import itertools\n",
        "\n",
        "def cartesian_product(*vectors):\n",
        "    # Use itertools.product to compute the Cartesian product\n",
        "    return list(itertools.product(*vectors))\n",
        "\n",
        "# Example usage\n",
        "A = [1, 2]\n",
        "B = ['a', 'b']\n",
        "C = [True, False]\n",
        "\n",
        "result = cartesian_product(A, B, C)\n",
        "print(result)"
      ]
    },
    {
      "cell_type": "markdown",
      "metadata": {
        "id": "CGLMOcYW3ujq"
      },
      "source": [
        "#### 91. How to create a record array from a regular array? (★★★)"
      ]
    },
    {
      "cell_type": "code",
      "execution_count": 14,
      "metadata": {
        "id": "zfCDrAbz3ujq",
        "colab": {
          "base_uri": "https://localhost:8080/"
        },
        "outputId": "e3441646-98c8-45f8-ba6f-8921af824b2a"
      },
      "outputs": [
        {
          "output_type": "stream",
          "name": "stdout",
          "text": [
            "Field 1: [1 4 7]\n",
            "Field 2: [2.5 5.5 8.5]\n",
            "Field 3: [3 6 9]\n"
          ]
        }
      ],
      "source": [
        "regular_array = np.array([\n",
        "    [1, 2.5, 3],\n",
        "    [4, 5.5, 6],\n",
        "    [7, 8.5, 9]\n",
        "])\n",
        "\n",
        "# Convert to record array\n",
        "record_array = np.core.records.fromarrays(\n",
        "    regular_array.T,  # Transpose to map rows to fields\n",
        "    names=\"field1, field2, field3\",\n",
        "    formats=\"i4, f4, i4\"  # Data types: int32, float32, int32\n",
        ")\n",
        "\n",
        "# Access fields by name\n",
        "print(\"Field 1:\", record_array.field1)\n",
        "print(\"Field 2:\", record_array.field2)\n",
        "print(\"Field 3:\", record_array.field3)\n"
      ]
    },
    {
      "cell_type": "markdown",
      "metadata": {
        "id": "ufA09czE3ujq"
      },
      "source": [
        "#### 92. Consider a large vector Z, compute Z to the power of 3 using 3 different methods (★★★)"
      ]
    },
    {
      "cell_type": "code",
      "execution_count": 11,
      "metadata": {
        "id": "BrclvOYr3ujq",
        "colab": {
          "base_uri": "https://localhost:8080/"
        },
        "outputId": "948dde18-feb6-4649-b257-bea03d39a3ac"
      },
      "outputs": [
        {
          "output_type": "stream",
          "name": "stdout",
          "text": [
            "All methods produce the same result.\n"
          ]
        }
      ],
      "source": [
        "Z = np.random.rand(1_000_000)  # Large vector with 1 million random elements\n",
        "\n",
        "# Method 1: Using the exponentiation operator\n",
        "Z_cubed_1 = Z ** 3\n",
        "\n",
        "# Method 2: Using np.power()\n",
        "Z_cubed_2 = np.power(Z, 3)\n",
        "\n",
        "# Method 3: Using repeated multiplication\n",
        "Z_cubed_3 = Z * Z * Z\n",
        "\n",
        "# Verify that all methods produce the same result\n",
        "assert np.allclose(Z_cubed_1, Z_cubed_2)\n",
        "assert np.allclose(Z_cubed_1, Z_cubed_3)\n",
        "\n",
        "print(\"All methods produce the same result.\")\n"
      ]
    },
    {
      "cell_type": "markdown",
      "metadata": {
        "id": "3lrm-OP03ujr"
      },
      "source": [
        "#### 93. Consider two arrays A and B of shape (8,3) and (2,2). How to find rows of A that contain elements of each row of B regardless of the order of the elements in B? (★★★)"
      ]
    },
    {
      "cell_type": "code",
      "execution_count": 10,
      "metadata": {
        "id": "34zeU3e13ujr",
        "colab": {
          "base_uri": "https://localhost:8080/"
        },
        "outputId": "c5a7f659-ac33-4f08-f603-22408b39a5b2"
      },
      "outputs": [
        {
          "output_type": "stream",
          "name": "stdout",
          "text": [
            "Filtered Rows in A that contain elements of B:\n",
            "[[1 5 9]\n",
            " [7 1 3]]\n"
          ]
        }
      ],
      "source": [
        "\n",
        "# Example arrays\n",
        "A = np.array([\n",
        "    [1, 2, 3],\n",
        "    [4, 5, 6],\n",
        "    [7, 8, 9],\n",
        "    [1, 5, 9],\n",
        "    [2, 4, 6],\n",
        "    [7, 1, 3],\n",
        "    [8, 2, 4],\n",
        "    [6, 5, 3]\n",
        "])\n",
        "\n",
        "B = np.array([\n",
        "    [1, 5],\n",
        "    [7, 3]\n",
        "])\n",
        "\n",
        "# Find rows in A that contain all elements of each row in B\n",
        "result = []\n",
        "for b_row in B:\n",
        "    # Create a mask for rows in A that contain all elements of b_row\n",
        "    mask = np.array([set(b_row).issubset(set(a_row)) for a_row in A])\n",
        "    result.append(A[mask])\n",
        "\n",
        "# Combine results for each row of B\n",
        "filtered_rows = np.vstack(result)\n",
        "\n",
        "print(\"Filtered Rows in A that contain elements of B:\")\n",
        "print(filtered_rows)\n"
      ]
    },
    {
      "cell_type": "markdown",
      "metadata": {
        "id": "1ptTkqop3ujr"
      },
      "source": [
        "#### 94. Considering a 10x3 matrix, extract rows with unequal values (e.g. [2,2,3]) (★★★)"
      ]
    },
    {
      "cell_type": "code",
      "execution_count": 9,
      "metadata": {
        "id": "VkSmrz7Y3ujr",
        "colab": {
          "base_uri": "https://localhost:8080/"
        },
        "outputId": "f4051207-a687-4f87-86b9-55b48089cfc7"
      },
      "outputs": [
        {
          "output_type": "stream",
          "name": "stdout",
          "text": [
            "Rows with unequal values:\n",
            "[[ 2  3  2]\n",
            " [ 5  6  7]\n",
            " [ 9  9 10]\n",
            " [11 12 11]\n",
            " [14 15 14]]\n"
          ]
        }
      ],
      "source": [
        "# Example 10x3 matrix\n",
        "matrix = np.array([\n",
        "    [1, 1, 1],\n",
        "    [2, 3, 2],\n",
        "    [4, 4, 4],\n",
        "    [5, 6, 7],\n",
        "    [8, 8, 8],\n",
        "    [9, 9, 10],\n",
        "    [11, 12, 11],\n",
        "    [13, 13, 13],\n",
        "    [14, 15, 14],\n",
        "    [16, 16, 16],\n",
        "])\n",
        "\n",
        "# Identify rows with unequal values\n",
        "mask = ~np.all(matrix == matrix[:, 0][:, None], axis=1)\n",
        "\n",
        "# Extract rows with unequal values\n",
        "unequal_rows = matrix[mask]\n",
        "\n",
        "print(\"Rows with unequal values:\")\n",
        "print(unequal_rows)"
      ]
    },
    {
      "cell_type": "markdown",
      "metadata": {
        "id": "ZyKUSpu-3ujs"
      },
      "source": [
        "#### 95. Convert a vector of ints into a matrix binary representation (★★★)"
      ]
    },
    {
      "cell_type": "code",
      "execution_count": 8,
      "metadata": {
        "id": "N6VmAUqA3ujs",
        "colab": {
          "base_uri": "https://localhost:8080/"
        },
        "outputId": "85f6e180-b039-4a6e-d71d-22a0e3acaaf5"
      },
      "outputs": [
        {
          "output_type": "stream",
          "name": "stdout",
          "text": [
            "Binary Representation Matrix:\n",
            "[[0 0 1 1]\n",
            " [0 1 1 1]\n",
            " [0 0 0 1]\n",
            " [0 0 0 0]\n",
            " [1 0 0 0]]\n"
          ]
        }
      ],
      "source": [
        "def int_to_binary_matrix(vector, num_bits=None):\n",
        "\n",
        "    # Ensure the vector is a numpy array\n",
        "    vector = np.array(vector, dtype=int)\n",
        "\n",
        "    # Determine the number of bits if not provided\n",
        "    if num_bits is None:\n",
        "        num_bits = int(np.ceil(np.log2(vector.max() + 1)))\n",
        "\n",
        "    # Convert each integer to binary and fill up to the desired number of bits\n",
        "    binary_matrix = ((vector[:, None] & (1 << np.arange(num_bits))) > 0).astype(int)\n",
        "\n",
        "    # Reverse bits to match standard binary representation\n",
        "    return binary_matrix[:, ::-1]\n",
        "\n",
        "# Example usage\n",
        "vector = [3, 7, 1, 0, 8]\n",
        "binary_matrix = int_to_binary_matrix(vector)\n",
        "print(\"Binary Representation Matrix:\")\n",
        "print(binary_matrix)"
      ]
    },
    {
      "cell_type": "markdown",
      "metadata": {
        "id": "flQ6h3aC3ujs"
      },
      "source": [
        "#### 96. Given a two dimensional array, how to extract unique rows? (★★★)"
      ]
    },
    {
      "cell_type": "code",
      "execution_count": 7,
      "metadata": {
        "id": "EBfzmY4W3ujs",
        "colab": {
          "base_uri": "https://localhost:8080/"
        },
        "outputId": "8af8ca6e-6d73-40af-f96d-7d698f295877"
      },
      "outputs": [
        {
          "output_type": "stream",
          "name": "stdout",
          "text": [
            "Original Array:\n",
            "[[1 2 3]\n",
            " [4 5 6]\n",
            " [1 2 3]\n",
            " [7 8 9]]\n",
            "\n",
            "Unique Rows:\n",
            "[[1 2 3]\n",
            " [4 5 6]\n",
            " [7 8 9]]\n"
          ]
        }
      ],
      "source": [
        "# Example 2D array\n",
        "arr = np.array([\n",
        "    [1, 2, 3],\n",
        "    [4, 5, 6],\n",
        "    [1, 2, 3],\n",
        "    [7, 8, 9]\n",
        "])\n",
        "\n",
        "# Extract unique rows\n",
        "unique_rows = np.unique(arr, axis=0)\n",
        "\n",
        "print(\"Original Array:\")\n",
        "print(arr)\n",
        "print(\"\\nUnique Rows:\")\n",
        "print(unique_rows)"
      ]
    },
    {
      "cell_type": "markdown",
      "metadata": {
        "id": "mWKLBUpb3ujt"
      },
      "source": [
        "#### 97. Considering 2 vectors A & B, write the einsum equivalent of inner, outer, sum, and mul function (★★★)"
      ]
    },
    {
      "cell_type": "code",
      "execution_count": 6,
      "metadata": {
        "id": "ofeGlzrF3ujt",
        "colab": {
          "base_uri": "https://localhost:8080/"
        },
        "outputId": "fec487df-7242-4a5a-ac36-af5aa895956b"
      },
      "outputs": [
        {
          "output_type": "stream",
          "name": "stdout",
          "text": [
            "Inner Product: 32\n"
          ]
        }
      ],
      "source": [
        "# Inner Product\n",
        "A = np.array([1, 2, 3])\n",
        "B = np.array([4, 5, 6])\n",
        "\n",
        "inner_product = np.einsum('i,i->', A, B)\n",
        "print(\"Inner Product:\", inner_product)\n",
        "# Equivalent to np.dot(A, B)"
      ]
    },
    {
      "cell_type": "markdown",
      "metadata": {
        "id": "cvH6mMIU3ujt"
      },
      "source": [
        "#### 98. Considering a path described by two vectors (X,Y), how to sample it using equidistant samples (★★★)?"
      ]
    },
    {
      "cell_type": "code",
      "execution_count": 5,
      "metadata": {
        "id": "YghZKfuT3ujt",
        "colab": {
          "base_uri": "https://localhost:8080/"
        },
        "outputId": "328d3d72-0be6-4577-aa28-940d0c6454a9"
      },
      "outputs": [
        {
          "output_type": "stream",
          "name": "stdout",
          "text": [
            "Sampled X: [0.         0.40879163 0.81758325 1.48021363 2.34739162 3.21456961\n",
            " 4.06093106 4.70728738 5.35364369 6.        ]\n",
            "Sampled Y: [0.         0.81758325 1.6351665  2.16007121 2.44913054 2.73818987\n",
            " 3.06093106 3.70728738 4.35364369 5.        ]\n"
          ]
        }
      ],
      "source": [
        "from scipy.interpolate import interp1d\n",
        "\n",
        "def sample_equidistant(X, Y, num_samples):\n",
        "    \"\"\"\n",
        "    Sample a path (X, Y) using equidistant points.\n",
        "\n",
        "    Parameters:\n",
        "        X (array-like): X coordinates of the path.\n",
        "        Y (array-like): Y coordinates of the path.\n",
        "        num_samples (int): Number of equidistant samples to generate.\n",
        "\n",
        "    Returns:\n",
        "        sampled_X (ndarray): X coordinates of equidistant samples.\n",
        "        sampled_Y (ndarray): Y coordinates of equidistant samples.\n",
        "    \"\"\"\n",
        "    # Ensure X and Y are numpy arrays\n",
        "    X = np.array(X)\n",
        "    Y = np.array(Y)\n",
        "\n",
        "    # Calculate distances between consecutive points\n",
        "    distances = np.sqrt(np.diff(X)**2 + np.diff(Y)**2)\n",
        "\n",
        "    # Cumulative distance along the path\n",
        "    cumulative_distance = np.insert(np.cumsum(distances), 0, 0)\n",
        "\n",
        "    # Create equidistant target distances\n",
        "    total_distance = cumulative_distance[-1]\n",
        "    target_distances = np.linspace(0, total_distance, num_samples)\n",
        "\n",
        "    # Interpolate X and Y based on target distances\n",
        "    interp_func_X = interp1d(cumulative_distance, X, kind=\"linear\")\n",
        "    interp_func_Y = interp1d(cumulative_distance, Y, kind=\"linear\")\n",
        "\n",
        "    sampled_X = interp_func_X(target_distances)\n",
        "    sampled_Y = interp_func_Y(target_distances)\n",
        "\n",
        "    return sampled_X, sampled_Y\n",
        "\n",
        "# Example usage\n",
        "X = [0, 1, 4, 6]\n",
        "Y = [0, 2, 3, 5]\n",
        "num_samples = 10\n",
        "\n",
        "sampled_X, sampled_Y = sample_equidistant(X, Y, num_samples)\n",
        "print(\"Sampled X:\", sampled_X)\n",
        "print(\"Sampled Y:\", sampled_Y)"
      ]
    },
    {
      "cell_type": "markdown",
      "metadata": {
        "id": "EtVqXq123uju"
      },
      "source": [
        "#### 99. Given an integer n and a 2D array X, select from X the rows which can be interpreted as draws from a multinomial distribution with n degrees, i.e., the rows which only contain integers and which sum to n. (★★★)"
      ]
    },
    {
      "cell_type": "code",
      "execution_count": 4,
      "metadata": {
        "id": "SPvkkRdu3uju",
        "colab": {
          "base_uri": "https://localhost:8080/"
        },
        "outputId": "1d70c061-bedc-4e86-8f8c-b021d35e6184"
      },
      "outputs": [
        {
          "output_type": "stream",
          "name": "stdout",
          "text": [
            "Rows valid for multinomial distribution:\n",
            "[[3. 2. 5.]\n",
            " [4. 3. 3.]\n",
            " [5. 3. 2.]]\n"
          ]
        }
      ],
      "source": [
        "\n",
        "def select_multinomial_rows(X, n):\n",
        "    \"\"\"\n",
        "    Select rows from X that can be interpreted as draws from a multinomial distribution with n degrees.\n",
        "\n",
        "    Parameters:\n",
        "        X (ndarray): A 2D numpy array.\n",
        "        n (int): The multinomial degree.\n",
        "\n",
        "    Returns:\n",
        "        ndarray: A filtered 2D numpy array containing rows valid for the multinomial distribution.\n",
        "    \"\"\"\n",
        "    # Ensure X is a numpy array\n",
        "    X = np.array(X)\n",
        "\n",
        "    # Condition 1: Rows contain only integers\n",
        "    is_integer = np.all(np.mod(X, 1) == 0, axis=1)\n",
        "\n",
        "    # Condition 2: Rows sum to n\n",
        "    sums_to_n = np.sum(X, axis=1) == n\n",
        "\n",
        "    # Select rows satisfying both conditions\n",
        "    valid_rows = X[is_integer & sums_to_n]\n",
        "\n",
        "    return valid_rows\n",
        "\n",
        "# Example usage\n",
        "X = np.array([[3, 2, 5], [1.5, 2.5, 6], [4, 3, 3], [5, 3, 2]])\n",
        "n = 10\n",
        "result = select_multinomial_rows(X, n)\n",
        "print(\"Rows valid for multinomial distribution:\")\n",
        "print(result)\n"
      ]
    },
    {
      "cell_type": "markdown",
      "metadata": {
        "id": "Zs4Cqv8l3uju"
      },
      "source": [
        "#### 100. Compute bootstrapped 95% confidence intervals for the mean of a 1D array X (i.e., resample the elements of an array with replacement N times, compute the mean of each sample, and then compute percentiles over the means). (★★★)"
      ]
    },
    {
      "cell_type": "code",
      "execution_count": 3,
      "metadata": {
        "id": "0APRm8p33uju",
        "colab": {
          "base_uri": "https://localhost:8080/"
        },
        "outputId": "c6006e8f-6b7f-4d85-ef43-50f4af0f9b56"
      },
      "outputs": [
        {
          "output_type": "stream",
          "name": "stdout",
          "text": [
            "Sample Means Percentiles:\n",
            "25th Percentile: 48.23\n",
            "50th Percentile: 49.55\n",
            "75th Percentile: 51.08\n"
          ]
        }
      ],
      "source": [
        "import pandas as pd\n",
        "\n",
        "# Example dataset (replace this with your actual data)\n",
        "data = np.random.normal(loc=50, scale=10, size=1000)  # A normal distribution\n",
        "\n",
        "# Parameters\n",
        "N = 100  # Number of samples\n",
        "sample_size = 30  # Size of each sample\n",
        "percentiles = [25, 50, 75]  # Desired percentiles\n",
        "\n",
        "# Step 1: Sampling and Computing Means\n",
        "sample_means = [np.mean(np.random.choice(data, size=sample_size, replace=True)) for _ in range(N)]\n",
        "\n",
        "# Step 2: Compute Percentiles over the Means\n",
        "percentile_values = np.percentile(sample_means, percentiles)\n",
        "\n",
        "# Display Results\n",
        "print(\"Sample Means Percentiles:\")\n",
        "for perc, value in zip(percentiles, percentile_values):\n",
        "    print(f\"{perc}th Percentile: {value:.2f}\")\n"
      ]
    },
    {
      "cell_type": "code",
      "execution_count": null,
      "metadata": {
        "id": "BILF3nxS3ujv"
      },
      "outputs": [],
      "source": []
    }
  ],
  "metadata": {
    "kernelspec": {
      "display_name": "Python 3",
      "language": "python",
      "name": "python3"
    },
    "language_info": {
      "codemirror_mode": {
        "name": "ipython",
        "version": 3
      },
      "file_extension": ".py",
      "mimetype": "text/x-python",
      "name": "python",
      "nbconvert_exporter": "python",
      "pygments_lexer": "ipython3",
      "version": "3.7.4"
    },
    "colab": {
      "provenance": [],
      "include_colab_link": true
    }
  },
  "nbformat": 4,
  "nbformat_minor": 0
}