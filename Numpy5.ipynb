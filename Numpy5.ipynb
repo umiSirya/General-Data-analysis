{
  "cells": [
    {
      "cell_type": "markdown",
      "metadata": {
        "id": "view-in-github",
        "colab_type": "text"
      },
      "source": [
        "<a href=\"https://colab.research.google.com/github/umiSirya/General-Data-analysis/blob/main/Numpy5.ipynb\" target=\"_parent\"><img src=\"https://colab.research.google.com/assets/colab-badge.svg\" alt=\"Open In Colab\"/></a>"
      ]
    },
    {
      "cell_type": "markdown",
      "metadata": {
        "id": "2memurvT3ujO"
      },
      "source": [
        "# Numpy Exercise 5\n",
        "\n",
        "### All of the questions in this exercise are attributed to rougier/numpy-100"
      ]
    },
    {
      "cell_type": "code",
      "execution_count": 2,
      "metadata": {
        "colab": {
          "base_uri": "https://localhost:8080/"
        },
        "id": "lPlK-_jd3ujU",
        "outputId": "1e312c4e-9137-4e52-f9b4-f8ae6b458720"
      },
      "outputs": [
        {
          "output_type": "stream",
          "name": "stdout",
          "text": [
            "Nearest value to 20 is 22\n"
          ]
        }
      ],
      "source": [
        "import numpy as np\n",
        "\n",
        "def find_nearest(array, value):\n",
        "    array = np.array(array)  # Ensure the input is a numpy array\n",
        "    idx = (np.abs(array - value)).argmin()  # Find the index of the nearest value\n",
        "    return array[idx]  # Return the nearest value\n",
        "\n",
        "# Example usage\n",
        "array = [10, 22, 14, 26, 34, 45]\n",
        "value = 20\n",
        "nearest_value = find_nearest(array, value)\n",
        "print(\"Nearest value to\", value, \"is\", nearest_value)"
      ]
    },
    {
      "cell_type": "markdown",
      "metadata": {
        "id": "KxTyn6Rl3ujV"
      },
      "source": [
        "#### 61. Find the nearest value from a given value in an array (★★☆)"
      ]
    },
    {
      "cell_type": "code",
      "execution_count": null,
      "metadata": {
        "colab": {
          "base_uri": "https://localhost:8080/"
        },
        "id": "ijR8arca3ujW",
        "outputId": "d0022221-906a-4250-95f9-716dcf7edf19"
      },
      "outputs": [
        {
          "output_type": "stream",
          "name": "stdout",
          "text": [
            "Nearest value to 20 is 22\n"
          ]
        }
      ],
      "source": [
        "def find_nearest(array, target):\n",
        "    # Find the nearest value in the array to the target\n",
        "    nearest = min(array, key=lambda x: abs(x - target))\n",
        "    return nearest\n",
        "\n",
        "# Example usage\n",
        "array = [10, 22, 14, 26, 34, 45]\n",
        "target = 20\n",
        "nearest_value = find_nearest(array, target)\n",
        "print(\"Nearest value to\", target, \"is\", nearest_value)\n"
      ]
    },
    {
      "cell_type": "markdown",
      "metadata": {
        "id": "yB0QhZ-a3ujX"
      },
      "source": [
        "#### 62. Considering two arrays with shape (1,3) and (3,1), how to compute their sum using an iterator? (★★☆)"
      ]
    },
    {
      "cell_type": "code",
      "execution_count": null,
      "metadata": {
        "colab": {
          "base_uri": "https://localhost:8080/"
        },
        "id": "eu4XOnLe3ujY",
        "outputId": "fbf2c200-eb0b-43a2-f5fa-6b40ccdc3230"
      },
      "outputs": [
        {
          "output_type": "stream",
          "name": "stdout",
          "text": [
            "Resultant Array:\n",
            " [[5. 6. 7.]\n",
            " [6. 7. 8.]\n",
            " [7. 8. 9.]]\n"
          ]
        }
      ],
      "source": [
        "\n",
        "\n",
        "# Define the arrays\n",
        "array1 = np.array([[1, 2, 3]])  # Shape (1, 3)\n",
        "array2 = np.array([[4], [5], [6]])  # Shape (3, 1)\n",
        "\n",
        "# Create an iterator to compute the sum element-wise\n",
        "result = np.empty((3, 3))  # Initialize an empty array to store the results\n",
        "it = np.nditer([array1,array2, result], flags=['multi_index', 'refs_ok'], op_flags=[['readonly'], ['readonly'], ['writeonly']])\n",
        "\n",
        "# Perform the element-wise addition using the iterator\n",
        "for x, y, z in it:\n",
        "    z[...] = x + y\n",
        "\n",
        "# Display the result\n",
        "print(\"Resultant Array:\\n\", result)\n",
        "\n"
      ]
    },
    {
      "cell_type": "markdown",
      "metadata": {
        "id": "IgT2gHth3ujY"
      },
      "source": [
        "#### 63. Create an array class that has a name attribute (★★☆)"
      ]
    },
    {
      "cell_type": "code",
      "execution_count": null,
      "metadata": {
        "colab": {
          "base_uri": "https://localhost:8080/"
        },
        "id": "lSqdHIfU3ujY",
        "outputId": "61939cb5-7767-431e-f132-9e6ba6d376a0"
      },
      "outputs": [
        {
          "output_type": "stream",
          "name": "stdout",
          "text": [
            "Array1:\n",
            "[[1 2 3]]\n",
            "Array2:\n",
            "[[4]\n",
            " [5]\n",
            " [6]]\n",
            "Array1 + Array:\n",
            "[[5 6 7]\n",
            " [6 7 8]\n",
            " [7 8 9]]\n"
          ]
        }
      ],
      "source": [
        "class NamedArray:\n",
        "    def __init__(self, data, name=\"Unnamed Array\"):\n",
        "        # Initialize with data and name\n",
        "        self.data = np.array(data)\n",
        "        self.name = name\n",
        "\n",
        "    def __repr__(self):\n",
        "        # Custom representation to display the name and array data\n",
        "        return f\"{self.name}:\\n{self.data}\"\n",
        "\n",
        "    def __add__(self, other):\n",
        "        # Support element-wise addition with another NamedArray or NumPy array\n",
        "        if isinstance(other, NamedArray):\n",
        "            other = other.data\n",
        "        return NamedArray(self.data + other, name=f\"{self.name} + {other.name if isinstance(other, NamedArray) else 'Array'}\")\n",
        "\n",
        "    # Add other array-like methods as needed, for example, accessing elements:\n",
        "    def __getitem__(self, index):\n",
        "        return self.data[index]\n",
        "\n",
        "# Example usage\n",
        "array1 = NamedArray([[1, 2, 3]], name=\"Array1\")\n",
        "array2 = NamedArray([[4], [5], [6]], name=\"Array2\")\n",
        "\n",
        "# Print arrays\n",
        "print(array1)\n",
        "print(array2)\n",
        "\n",
        "# Perform addition and print result\n",
        "result = array1 + array2\n",
        "print(result)"
      ]
    },
    {
      "cell_type": "markdown",
      "metadata": {
        "id": "CfCGtefh3ujZ"
      },
      "source": [
        "#### 64. Consider a given vector, how to add 1 to each element indexed by a second vector (be careful with repeated indices)? (★★★)"
      ]
    },
    {
      "cell_type": "code",
      "execution_count": null,
      "metadata": {
        "colab": {
          "base_uri": "https://localhost:8080/"
        },
        "id": "lNa--Toq3ujZ",
        "outputId": "1ee5ab37-c071-4848-de5a-50a9556119da"
      },
      "outputs": [
        {
          "output_type": "stream",
          "name": "stdout",
          "text": [
            "Updated vector: [11 22 31 40 51]\n"
          ]
        }
      ],
      "source": [
        "vector = np.array([10, 20, 30, 40, 50])\n",
        "indices = np.array([0, 1, 1, 2, 4])  # Note: index 1 is repeated\n",
        "\n",
        "# Increment each element in 'vector' at the positions specified by 'indices'\n",
        "np.add.at(vector, indices, 1)\n",
        "\n",
        "# Display the result\n",
        "print(\"Updated vector:\", vector)"
      ]
    },
    {
      "cell_type": "markdown",
      "metadata": {
        "id": "hK7Tz-jt3uja"
      },
      "source": [
        "#### 65. How to accumulate elements of a vector (X) to an array (F) based on an index list (I)? (★★★)"
      ]
    },
    {
      "cell_type": "code",
      "execution_count": null,
      "metadata": {
        "colab": {
          "base_uri": "https://localhost:8080/"
        },
        "id": "pXoAfccp3uja",
        "outputId": "73b122fd-c665-458c-d493-f9650120641f"
      },
      "outputs": [
        {
          "output_type": "stream",
          "name": "stdout",
          "text": [
            "Accumulated array F: [30. 25. 20.]\n"
          ]
        }
      ],
      "source": [
        "X = np.array([5, 10, 15, 20, 25])  # Values to accumulate\n",
        "I = np.array([0, 1, 1, 2, 0])      # Index positions in F\n",
        "\n",
        "# Initialize the target array F with zeros (or another base value if needed)\n",
        "F = np.zeros(3)\n",
        "\n",
        "# Accumulate values from X into F at indices specified in I\n",
        "np.add.at(F, I, X)\n",
        "\n",
        "# Display the result\n",
        "print(\"Accumulated array F:\", F)"
      ]
    },
    {
      "cell_type": "markdown",
      "metadata": {
        "id": "-SppgzCn3ujb"
      },
      "source": [
        "#### 66. Considering a (w,h,3) image of (dtype=ubyte), compute the number of unique colors (★★☆)"
      ]
    },
    {
      "cell_type": "code",
      "execution_count": null,
      "metadata": {
        "colab": {
          "base_uri": "https://localhost:8080/"
        },
        "id": "xPx26SQY3ujb",
        "outputId": "23796c2b-c44a-4bac-f189-d7e1eb4a2a7a"
      },
      "outputs": [
        {
          "output_type": "stream",
          "name": "stdout",
          "text": [
            "Number of unique colors: 9997\n"
          ]
        }
      ],
      "source": [
        "# Example image with shape (w, h, 3) and dtype=ubyte\n",
        "# Assuming 'image' is your input image array with shape (w, h, 3)\n",
        "# For demonstration, let's create a random image\n",
        "w, h = 100, 100  # Image width and height\n",
        "image = np.random.randint(0, 256, size=(w, h, 3), dtype=np.uint8)\n",
        "\n",
        "# Reshape the image to a 2D array of pixels, where each row is a color (R, G, B)\n",
        "pixels = image.reshape(-1, 3)\n",
        "\n",
        "# Use np.unique to find unique rows (unique colors), and count them\n",
        "unique_colors = np.unique(pixels, axis=0)\n",
        "num_unique_colors = unique_colors.shape[0]\n",
        "\n",
        "# Display the result\n",
        "print(\"Number of unique colors:\", num_unique_colors)"
      ]
    },
    {
      "cell_type": "markdown",
      "metadata": {
        "id": "1BXFUEAL3ujb"
      },
      "source": [
        "#### 67. Considering a four dimensions array, how to get sum over the last two axis at once? (★★★)"
      ]
    },
    {
      "cell_type": "code",
      "execution_count": null,
      "metadata": {
        "colab": {
          "base_uri": "https://localhost:8080/"
        },
        "id": "xKaUSb4S3ujb",
        "outputId": "65e3ba3f-6aaf-4bf7-d202-1ed305afc4b7"
      },
      "outputs": [
        {
          "output_type": "stream",
          "name": "stdout",
          "text": [
            "Shape of the result: (3, 4)\n",
            "Resulting array after summing over the last two axes:\n",
            " [[14.81200172 12.13530415 13.85613883 14.9914101 ]\n",
            " [16.00591366 14.57075353 16.70375084 16.53702427]\n",
            " [14.45410455 16.490816   16.5064317  13.59735405]]\n"
          ]
        }
      ],
      "source": [
        "# Create a sample 4D array\n",
        "array = np.random.rand(3, 4, 5, 6)  # Shape (3, 4, 5, 6)\n",
        "\n",
        "# Sum over the last two axes (axis -2 and -1)\n",
        "result = array.sum(axis=(-2, -1))\n",
        "\n",
        "# Display the shape and result\n",
        "print(\"Shape of the result:\", result.shape)\n",
        "print(\"Resulting array after summing over the last two axes:\\n\", result)"
      ]
    },
    {
      "cell_type": "markdown",
      "metadata": {
        "id": "6lNqqBrz3ujc"
      },
      "source": [
        "#### 68. Considering a one-dimensional vector D, how to compute means of subsets of D using a vector S of same size describing subset  indices? (★★★)"
      ]
    },
    {
      "cell_type": "code",
      "execution_count": null,
      "metadata": {
        "id": "SVOmlaWe3ujc"
      },
      "outputs": [],
      "source": []
    },
    {
      "cell_type": "markdown",
      "metadata": {
        "id": "s2qf0EOi3ujc"
      },
      "source": [
        "#### 69. How to get the diagonal of a dot product? (★★★)"
      ]
    },
    {
      "cell_type": "code",
      "execution_count": null,
      "metadata": {
        "id": "m96-MPX13ujc"
      },
      "outputs": [],
      "source": []
    },
    {
      "cell_type": "markdown",
      "metadata": {
        "id": "MXKi9m7T3ujd"
      },
      "source": [
        "#### 70. Consider the vector [1, 2, 3, 4, 5], how to build a new vector with 3 consecutive zeros interleaved between each value? (★★★)"
      ]
    },
    {
      "cell_type": "code",
      "execution_count": null,
      "metadata": {
        "id": "cTBjRpR03ujd"
      },
      "outputs": [],
      "source": []
    },
    {
      "cell_type": "markdown",
      "metadata": {
        "id": "Sr_K_hRS3ujd"
      },
      "source": [
        "#### 71. Consider an array of dimension (5,5,3), how to mulitply it by an array with dimensions (5,5)? (★★★)"
      ]
    },
    {
      "cell_type": "code",
      "execution_count": null,
      "metadata": {
        "id": "37qV7TbW3uje"
      },
      "outputs": [],
      "source": []
    },
    {
      "cell_type": "markdown",
      "metadata": {
        "id": "lThBtuLs3uje"
      },
      "source": [
        "#### 72. How to swap two rows of an array? (★★★)"
      ]
    },
    {
      "cell_type": "code",
      "execution_count": null,
      "metadata": {
        "id": "XDP8Z9AT3uje"
      },
      "outputs": [],
      "source": []
    },
    {
      "cell_type": "markdown",
      "metadata": {
        "id": "yWHglhvo3uje"
      },
      "source": [
        "#### 73. Consider a set of 10 triplets describing 10 triangles (with shared vertices), find the set of unique line segments composing all the  triangles (★★★)"
      ]
    },
    {
      "cell_type": "code",
      "execution_count": null,
      "metadata": {
        "id": "mA2prR0y3ujf"
      },
      "outputs": [],
      "source": []
    },
    {
      "cell_type": "markdown",
      "metadata": {
        "id": "hOcpK3K73ujf"
      },
      "source": [
        "#### 74. Given a sorted array C that corresponds to a bincount, how to produce an array A such that np.bincount(A) == C? (★★★)"
      ]
    },
    {
      "cell_type": "code",
      "execution_count": null,
      "metadata": {
        "id": "WKf4bFkv3ujf"
      },
      "outputs": [],
      "source": []
    },
    {
      "cell_type": "markdown",
      "metadata": {
        "id": "4wHG35Kk3ujg"
      },
      "source": [
        "#### 75. How to compute averages using a sliding window over an array? (★★★)"
      ]
    },
    {
      "cell_type": "code",
      "execution_count": null,
      "metadata": {
        "id": "FNvhl5o33ujg"
      },
      "outputs": [],
      "source": []
    },
    {
      "cell_type": "markdown",
      "metadata": {
        "id": "IefjSOmC3ujh"
      },
      "source": [
        "#### 76. Consider a one-dimensional array Z, build a two-dimensional array whose first row is (Z[0],Z[1],Z[2]) and each subsequent row is  shifted by 1 (last row should be (Z[-3],Z[-2],Z[-1]) (★★★)"
      ]
    },
    {
      "cell_type": "code",
      "execution_count": null,
      "metadata": {
        "id": "C_GlCn5B3ujh"
      },
      "outputs": [],
      "source": []
    },
    {
      "cell_type": "markdown",
      "metadata": {
        "id": "H_SkX5f63ujh"
      },
      "source": [
        "#### 77. How to negate a boolean, or to change the sign of a float inplace? (★★★)"
      ]
    },
    {
      "cell_type": "code",
      "execution_count": null,
      "metadata": {
        "id": "iJuuLwrt3ujh"
      },
      "outputs": [],
      "source": []
    },
    {
      "cell_type": "markdown",
      "metadata": {
        "id": "WL8vhiHY3ujh"
      },
      "source": [
        "#### 78. Consider 2 sets of points P0,P1 describing lines (2d) and a point p, how to compute distance from p to each line i (P0[i],P1[i])? (★★★)"
      ]
    },
    {
      "cell_type": "code",
      "execution_count": null,
      "metadata": {
        "id": "lzdvAZ2w3uji"
      },
      "outputs": [],
      "source": []
    },
    {
      "cell_type": "markdown",
      "metadata": {
        "id": "_up6N9YJ3uji"
      },
      "source": [
        "#### 79. Consider 2 sets of points P0,P1 describing lines (2d) and a set of points P, how to compute distance from each point j (P[j]) to each line i (P0[i],P1[i])? (★★★)"
      ]
    },
    {
      "cell_type": "code",
      "execution_count": null,
      "metadata": {
        "id": "g5QiaD6n3ujk"
      },
      "outputs": [],
      "source": []
    },
    {
      "cell_type": "markdown",
      "metadata": {
        "id": "-rkxZPCk3ujk"
      },
      "source": [
        "#### 80. Consider an arbitrary array, write a function that extract a subpart with a fixed shape and centered on a given element (pad with a `fill` value when necessary) (★★★)"
      ]
    },
    {
      "cell_type": "code",
      "execution_count": null,
      "metadata": {
        "id": "iklqZ8Ta3ujk"
      },
      "outputs": [],
      "source": []
    },
    {
      "cell_type": "markdown",
      "metadata": {
        "id": "7you90zX3ujk"
      },
      "source": [
        "#### 81. Consider an array Z = [1,2,3,4,5,6,7,8,9,10,11,12,13,14], how to generate an array R = [[1,2,3,4], [2,3,4,5], [3,4,5,6], ..., [11,12,13,14]]? (★★★)"
      ]
    },
    {
      "cell_type": "code",
      "execution_count": null,
      "metadata": {
        "id": "vK_s16j13ujl"
      },
      "outputs": [],
      "source": []
    },
    {
      "cell_type": "markdown",
      "metadata": {
        "id": "rhwEVh-I3ujl"
      },
      "source": [
        "#### 82. Compute a matrix rank (★★★)"
      ]
    },
    {
      "cell_type": "code",
      "execution_count": null,
      "metadata": {
        "id": "f2U2sQQH3ujl"
      },
      "outputs": [],
      "source": []
    },
    {
      "cell_type": "markdown",
      "metadata": {
        "id": "CxmNO8P13ujl"
      },
      "source": [
        "#### 83. How to find the most frequent value in an array?"
      ]
    },
    {
      "cell_type": "code",
      "execution_count": null,
      "metadata": {
        "id": "3kqdrSM43ujm"
      },
      "outputs": [],
      "source": []
    },
    {
      "cell_type": "markdown",
      "metadata": {
        "id": "2Y0zcz7W3ujm"
      },
      "source": [
        "#### 84. Extract all the contiguous 3x3 blocks from a random 10x10 matrix (★★★)"
      ]
    },
    {
      "cell_type": "code",
      "execution_count": null,
      "metadata": {
        "id": "202WO1xL3ujm"
      },
      "outputs": [],
      "source": []
    },
    {
      "cell_type": "markdown",
      "metadata": {
        "id": "4KzBHN-O3ujm"
      },
      "source": [
        "#### 85. Create a 2D array subclass such that Z[i,j] == Z[j,i] (★★★)"
      ]
    },
    {
      "cell_type": "code",
      "execution_count": null,
      "metadata": {
        "id": "g7UuSuww3ujn"
      },
      "outputs": [],
      "source": []
    },
    {
      "cell_type": "markdown",
      "metadata": {
        "id": "EPsrHpVR3ujn"
      },
      "source": [
        "#### 86. Consider a set of p matrices wich shape (n,n) and a set of p vectors with shape (n,1). How to compute the sum of of the p matrix products at once? (result has shape (n,1)) (★★★)"
      ]
    },
    {
      "cell_type": "code",
      "execution_count": null,
      "metadata": {
        "id": "qlPGfF3N3ujn"
      },
      "outputs": [],
      "source": []
    },
    {
      "cell_type": "markdown",
      "metadata": {
        "id": "Gbr__ZKP3ujn"
      },
      "source": [
        "#### 87. Consider a 16x16 array, how to get the block-sum (block size is 4x4)? (★★★)"
      ]
    },
    {
      "cell_type": "code",
      "execution_count": null,
      "metadata": {
        "id": "j2MRsiaB3ujo"
      },
      "outputs": [],
      "source": []
    },
    {
      "cell_type": "markdown",
      "metadata": {
        "id": "o2JtUiOq3ujo"
      },
      "source": [
        "#### 88. How to implement the Game of Life using numpy arrays? (★★★)"
      ]
    },
    {
      "cell_type": "code",
      "execution_count": null,
      "metadata": {
        "id": "K_tbEfiJ3ujo"
      },
      "outputs": [],
      "source": []
    },
    {
      "cell_type": "markdown",
      "metadata": {
        "id": "PmoBFehg3ujp"
      },
      "source": [
        "#### 89. How to get the n largest values of an array (★★★)"
      ]
    },
    {
      "cell_type": "code",
      "execution_count": null,
      "metadata": {
        "id": "OAUPJxiI3ujp"
      },
      "outputs": [],
      "source": []
    },
    {
      "cell_type": "markdown",
      "metadata": {
        "id": "KNjcg72R3ujp"
      },
      "source": [
        "#### 90. Given an arbitrary number of vectors, build the cartesian product (every combinations of every item) (★★★)"
      ]
    },
    {
      "cell_type": "code",
      "execution_count": null,
      "metadata": {
        "id": "lhX4dFmD3ujp"
      },
      "outputs": [],
      "source": []
    },
    {
      "cell_type": "markdown",
      "metadata": {
        "id": "CGLMOcYW3ujq"
      },
      "source": [
        "#### 91. How to create a record array from a regular array? (★★★)"
      ]
    },
    {
      "cell_type": "code",
      "execution_count": 14,
      "metadata": {
        "id": "zfCDrAbz3ujq",
        "colab": {
          "base_uri": "https://localhost:8080/"
        },
        "outputId": "e3441646-98c8-45f8-ba6f-8921af824b2a"
      },
      "outputs": [
        {
          "output_type": "stream",
          "name": "stdout",
          "text": [
            "Field 1: [1 4 7]\n",
            "Field 2: [2.5 5.5 8.5]\n",
            "Field 3: [3 6 9]\n"
          ]
        }
      ],
      "source": [
        "regular_array = np.array([\n",
        "    [1, 2.5, 3],\n",
        "    [4, 5.5, 6],\n",
        "    [7, 8.5, 9]\n",
        "])\n",
        "\n",
        "# Convert to record array\n",
        "record_array = np.core.records.fromarrays(\n",
        "    regular_array.T,  # Transpose to map rows to fields\n",
        "    names=\"field1, field2, field3\",\n",
        "    formats=\"i4, f4, i4\"  # Data types: int32, float32, int32\n",
        ")\n",
        "\n",
        "# Access fields by name\n",
        "print(\"Field 1:\", record_array.field1)\n",
        "print(\"Field 2:\", record_array.field2)\n",
        "print(\"Field 3:\", record_array.field3)\n"
      ]
    },
    {
      "cell_type": "markdown",
      "metadata": {
        "id": "ufA09czE3ujq"
      },
      "source": [
        "#### 92. Consider a large vector Z, compute Z to the power of 3 using 3 different methods (★★★)"
      ]
    },
    {
      "cell_type": "code",
      "execution_count": 11,
      "metadata": {
        "id": "BrclvOYr3ujq",
        "colab": {
          "base_uri": "https://localhost:8080/"
        },
        "outputId": "948dde18-feb6-4649-b257-bea03d39a3ac"
      },
      "outputs": [
        {
          "output_type": "stream",
          "name": "stdout",
          "text": [
            "All methods produce the same result.\n"
          ]
        }
      ],
      "source": [
        "Z = np.random.rand(1_000_000)  # Large vector with 1 million random elements\n",
        "\n",
        "# Method 1: Using the exponentiation operator\n",
        "Z_cubed_1 = Z ** 3\n",
        "\n",
        "# Method 2: Using np.power()\n",
        "Z_cubed_2 = np.power(Z, 3)\n",
        "\n",
        "# Method 3: Using repeated multiplication\n",
        "Z_cubed_3 = Z * Z * Z\n",
        "\n",
        "# Verify that all methods produce the same result\n",
        "assert np.allclose(Z_cubed_1, Z_cubed_2)\n",
        "assert np.allclose(Z_cubed_1, Z_cubed_3)\n",
        "\n",
        "print(\"All methods produce the same result.\")\n"
      ]
    },
    {
      "cell_type": "markdown",
      "metadata": {
        "id": "3lrm-OP03ujr"
      },
      "source": [
        "#### 93. Consider two arrays A and B of shape (8,3) and (2,2). How to find rows of A that contain elements of each row of B regardless of the order of the elements in B? (★★★)"
      ]
    },
    {
      "cell_type": "code",
      "execution_count": 10,
      "metadata": {
        "id": "34zeU3e13ujr",
        "colab": {
          "base_uri": "https://localhost:8080/"
        },
        "outputId": "c5a7f659-ac33-4f08-f603-22408b39a5b2"
      },
      "outputs": [
        {
          "output_type": "stream",
          "name": "stdout",
          "text": [
            "Filtered Rows in A that contain elements of B:\n",
            "[[1 5 9]\n",
            " [7 1 3]]\n"
          ]
        }
      ],
      "source": [
        "\n",
        "# Example arrays\n",
        "A = np.array([\n",
        "    [1, 2, 3],\n",
        "    [4, 5, 6],\n",
        "    [7, 8, 9],\n",
        "    [1, 5, 9],\n",
        "    [2, 4, 6],\n",
        "    [7, 1, 3],\n",
        "    [8, 2, 4],\n",
        "    [6, 5, 3]\n",
        "])\n",
        "\n",
        "B = np.array([\n",
        "    [1, 5],\n",
        "    [7, 3]\n",
        "])\n",
        "\n",
        "# Find rows in A that contain all elements of each row in B\n",
        "result = []\n",
        "for b_row in B:\n",
        "    # Create a mask for rows in A that contain all elements of b_row\n",
        "    mask = np.array([set(b_row).issubset(set(a_row)) for a_row in A])\n",
        "    result.append(A[mask])\n",
        "\n",
        "# Combine results for each row of B\n",
        "filtered_rows = np.vstack(result)\n",
        "\n",
        "print(\"Filtered Rows in A that contain elements of B:\")\n",
        "print(filtered_rows)\n"
      ]
    },
    {
      "cell_type": "markdown",
      "metadata": {
        "id": "1ptTkqop3ujr"
      },
      "source": [
        "#### 94. Considering a 10x3 matrix, extract rows with unequal values (e.g. [2,2,3]) (★★★)"
      ]
    },
    {
      "cell_type": "code",
      "execution_count": 9,
      "metadata": {
        "id": "VkSmrz7Y3ujr",
        "colab": {
          "base_uri": "https://localhost:8080/"
        },
        "outputId": "f4051207-a687-4f87-86b9-55b48089cfc7"
      },
      "outputs": [
        {
          "output_type": "stream",
          "name": "stdout",
          "text": [
            "Rows with unequal values:\n",
            "[[ 2  3  2]\n",
            " [ 5  6  7]\n",
            " [ 9  9 10]\n",
            " [11 12 11]\n",
            " [14 15 14]]\n"
          ]
        }
      ],
      "source": [
        "# Example 10x3 matrix\n",
        "matrix = np.array([\n",
        "    [1, 1, 1],\n",
        "    [2, 3, 2],\n",
        "    [4, 4, 4],\n",
        "    [5, 6, 7],\n",
        "    [8, 8, 8],\n",
        "    [9, 9, 10],\n",
        "    [11, 12, 11],\n",
        "    [13, 13, 13],\n",
        "    [14, 15, 14],\n",
        "    [16, 16, 16],\n",
        "])\n",
        "\n",
        "# Identify rows with unequal values\n",
        "mask = ~np.all(matrix == matrix[:, 0][:, None], axis=1)\n",
        "\n",
        "# Extract rows with unequal values\n",
        "unequal_rows = matrix[mask]\n",
        "\n",
        "print(\"Rows with unequal values:\")\n",
        "print(unequal_rows)"
      ]
    },
    {
      "cell_type": "markdown",
      "metadata": {
        "id": "ZyKUSpu-3ujs"
      },
      "source": [
        "#### 95. Convert a vector of ints into a matrix binary representation (★★★)"
      ]
    },
    {
      "cell_type": "code",
      "execution_count": 8,
      "metadata": {
        "id": "N6VmAUqA3ujs",
        "colab": {
          "base_uri": "https://localhost:8080/"
        },
        "outputId": "85f6e180-b039-4a6e-d71d-22a0e3acaaf5"
      },
      "outputs": [
        {
          "output_type": "stream",
          "name": "stdout",
          "text": [
            "Binary Representation Matrix:\n",
            "[[0 0 1 1]\n",
            " [0 1 1 1]\n",
            " [0 0 0 1]\n",
            " [0 0 0 0]\n",
            " [1 0 0 0]]\n"
          ]
        }
      ],
      "source": [
        "def int_to_binary_matrix(vector, num_bits=None):\n",
        "\n",
        "    # Ensure the vector is a numpy array\n",
        "    vector = np.array(vector, dtype=int)\n",
        "\n",
        "    # Determine the number of bits if not provided\n",
        "    if num_bits is None:\n",
        "        num_bits = int(np.ceil(np.log2(vector.max() + 1)))\n",
        "\n",
        "    # Convert each integer to binary and fill up to the desired number of bits\n",
        "    binary_matrix = ((vector[:, None] & (1 << np.arange(num_bits))) > 0).astype(int)\n",
        "\n",
        "    # Reverse bits to match standard binary representation\n",
        "    return binary_matrix[:, ::-1]\n",
        "\n",
        "# Example usage\n",
        "vector = [3, 7, 1, 0, 8]\n",
        "binary_matrix = int_to_binary_matrix(vector)\n",
        "print(\"Binary Representation Matrix:\")\n",
        "print(binary_matrix)"
      ]
    },
    {
      "cell_type": "markdown",
      "metadata": {
        "id": "flQ6h3aC3ujs"
      },
      "source": [
        "#### 96. Given a two dimensional array, how to extract unique rows? (★★★)"
      ]
    },
    {
      "cell_type": "code",
      "execution_count": 7,
      "metadata": {
        "id": "EBfzmY4W3ujs",
        "colab": {
          "base_uri": "https://localhost:8080/"
        },
        "outputId": "8af8ca6e-6d73-40af-f96d-7d698f295877"
      },
      "outputs": [
        {
          "output_type": "stream",
          "name": "stdout",
          "text": [
            "Original Array:\n",
            "[[1 2 3]\n",
            " [4 5 6]\n",
            " [1 2 3]\n",
            " [7 8 9]]\n",
            "\n",
            "Unique Rows:\n",
            "[[1 2 3]\n",
            " [4 5 6]\n",
            " [7 8 9]]\n"
          ]
        }
      ],
      "source": [
        "# Example 2D array\n",
        "arr = np.array([\n",
        "    [1, 2, 3],\n",
        "    [4, 5, 6],\n",
        "    [1, 2, 3],\n",
        "    [7, 8, 9]\n",
        "])\n",
        "\n",
        "# Extract unique rows\n",
        "unique_rows = np.unique(arr, axis=0)\n",
        "\n",
        "print(\"Original Array:\")\n",
        "print(arr)\n",
        "print(\"\\nUnique Rows:\")\n",
        "print(unique_rows)"
      ]
    },
    {
      "cell_type": "markdown",
      "metadata": {
        "id": "mWKLBUpb3ujt"
      },
      "source": [
        "#### 97. Considering 2 vectors A & B, write the einsum equivalent of inner, outer, sum, and mul function (★★★)"
      ]
    },
    {
      "cell_type": "code",
      "execution_count": 6,
      "metadata": {
        "id": "ofeGlzrF3ujt",
        "colab": {
          "base_uri": "https://localhost:8080/"
        },
        "outputId": "fec487df-7242-4a5a-ac36-af5aa895956b"
      },
      "outputs": [
        {
          "output_type": "stream",
          "name": "stdout",
          "text": [
            "Inner Product: 32\n"
          ]
        }
      ],
      "source": [
        "# Inner Product\n",
        "A = np.array([1, 2, 3])\n",
        "B = np.array([4, 5, 6])\n",
        "\n",
        "inner_product = np.einsum('i,i->', A, B)\n",
        "print(\"Inner Product:\", inner_product)\n",
        "# Equivalent to np.dot(A, B)"
      ]
    },
    {
      "cell_type": "markdown",
      "metadata": {
        "id": "cvH6mMIU3ujt"
      },
      "source": [
        "#### 98. Considering a path described by two vectors (X,Y), how to sample it using equidistant samples (★★★)?"
      ]
    },
    {
      "cell_type": "code",
      "execution_count": 5,
      "metadata": {
        "id": "YghZKfuT3ujt",
        "colab": {
          "base_uri": "https://localhost:8080/"
        },
        "outputId": "328d3d72-0be6-4577-aa28-940d0c6454a9"
      },
      "outputs": [
        {
          "output_type": "stream",
          "name": "stdout",
          "text": [
            "Sampled X: [0.         0.40879163 0.81758325 1.48021363 2.34739162 3.21456961\n",
            " 4.06093106 4.70728738 5.35364369 6.        ]\n",
            "Sampled Y: [0.         0.81758325 1.6351665  2.16007121 2.44913054 2.73818987\n",
            " 3.06093106 3.70728738 4.35364369 5.        ]\n"
          ]
        }
      ],
      "source": [
        "from scipy.interpolate import interp1d\n",
        "\n",
        "def sample_equidistant(X, Y, num_samples):\n",
        "    \"\"\"\n",
        "    Sample a path (X, Y) using equidistant points.\n",
        "\n",
        "    Parameters:\n",
        "        X (array-like): X coordinates of the path.\n",
        "        Y (array-like): Y coordinates of the path.\n",
        "        num_samples (int): Number of equidistant samples to generate.\n",
        "\n",
        "    Returns:\n",
        "        sampled_X (ndarray): X coordinates of equidistant samples.\n",
        "        sampled_Y (ndarray): Y coordinates of equidistant samples.\n",
        "    \"\"\"\n",
        "    # Ensure X and Y are numpy arrays\n",
        "    X = np.array(X)\n",
        "    Y = np.array(Y)\n",
        "\n",
        "    # Calculate distances between consecutive points\n",
        "    distances = np.sqrt(np.diff(X)**2 + np.diff(Y)**2)\n",
        "\n",
        "    # Cumulative distance along the path\n",
        "    cumulative_distance = np.insert(np.cumsum(distances), 0, 0)\n",
        "\n",
        "    # Create equidistant target distances\n",
        "    total_distance = cumulative_distance[-1]\n",
        "    target_distances = np.linspace(0, total_distance, num_samples)\n",
        "\n",
        "    # Interpolate X and Y based on target distances\n",
        "    interp_func_X = interp1d(cumulative_distance, X, kind=\"linear\")\n",
        "    interp_func_Y = interp1d(cumulative_distance, Y, kind=\"linear\")\n",
        "\n",
        "    sampled_X = interp_func_X(target_distances)\n",
        "    sampled_Y = interp_func_Y(target_distances)\n",
        "\n",
        "    return sampled_X, sampled_Y\n",
        "\n",
        "# Example usage\n",
        "X = [0, 1, 4, 6]\n",
        "Y = [0, 2, 3, 5]\n",
        "num_samples = 10\n",
        "\n",
        "sampled_X, sampled_Y = sample_equidistant(X, Y, num_samples)\n",
        "print(\"Sampled X:\", sampled_X)\n",
        "print(\"Sampled Y:\", sampled_Y)"
      ]
    },
    {
      "cell_type": "markdown",
      "metadata": {
        "id": "EtVqXq123uju"
      },
      "source": [
        "#### 99. Given an integer n and a 2D array X, select from X the rows which can be interpreted as draws from a multinomial distribution with n degrees, i.e., the rows which only contain integers and which sum to n. (★★★)"
      ]
    },
    {
      "cell_type": "code",
      "execution_count": 4,
      "metadata": {
        "id": "SPvkkRdu3uju",
        "colab": {
          "base_uri": "https://localhost:8080/"
        },
        "outputId": "1d70c061-bedc-4e86-8f8c-b021d35e6184"
      },
      "outputs": [
        {
          "output_type": "stream",
          "name": "stdout",
          "text": [
            "Rows valid for multinomial distribution:\n",
            "[[3. 2. 5.]\n",
            " [4. 3. 3.]\n",
            " [5. 3. 2.]]\n"
          ]
        }
      ],
      "source": [
        "\n",
        "def select_multinomial_rows(X, n):\n",
        "    \"\"\"\n",
        "    Select rows from X that can be interpreted as draws from a multinomial distribution with n degrees.\n",
        "\n",
        "    Parameters:\n",
        "        X (ndarray): A 2D numpy array.\n",
        "        n (int): The multinomial degree.\n",
        "\n",
        "    Returns:\n",
        "        ndarray: A filtered 2D numpy array containing rows valid for the multinomial distribution.\n",
        "    \"\"\"\n",
        "    # Ensure X is a numpy array\n",
        "    X = np.array(X)\n",
        "\n",
        "    # Condition 1: Rows contain only integers\n",
        "    is_integer = np.all(np.mod(X, 1) == 0, axis=1)\n",
        "\n",
        "    # Condition 2: Rows sum to n\n",
        "    sums_to_n = np.sum(X, axis=1) == n\n",
        "\n",
        "    # Select rows satisfying both conditions\n",
        "    valid_rows = X[is_integer & sums_to_n]\n",
        "\n",
        "    return valid_rows\n",
        "\n",
        "# Example usage\n",
        "X = np.array([[3, 2, 5], [1.5, 2.5, 6], [4, 3, 3], [5, 3, 2]])\n",
        "n = 10\n",
        "result = select_multinomial_rows(X, n)\n",
        "print(\"Rows valid for multinomial distribution:\")\n",
        "print(result)\n"
      ]
    },
    {
      "cell_type": "markdown",
      "metadata": {
        "id": "Zs4Cqv8l3uju"
      },
      "source": [
        "#### 100. Compute bootstrapped 95% confidence intervals for the mean of a 1D array X (i.e., resample the elements of an array with replacement N times, compute the mean of each sample, and then compute percentiles over the means). (★★★)"
      ]
    },
    {
      "cell_type": "code",
      "execution_count": 3,
      "metadata": {
        "id": "0APRm8p33uju",
        "colab": {
          "base_uri": "https://localhost:8080/"
        },
        "outputId": "c6006e8f-6b7f-4d85-ef43-50f4af0f9b56"
      },
      "outputs": [
        {
          "output_type": "stream",
          "name": "stdout",
          "text": [
            "Sample Means Percentiles:\n",
            "25th Percentile: 48.23\n",
            "50th Percentile: 49.55\n",
            "75th Percentile: 51.08\n"
          ]
        }
      ],
      "source": [
        "import pandas as pd\n",
        "\n",
        "# Example dataset (replace this with your actual data)\n",
        "data = np.random.normal(loc=50, scale=10, size=1000)  # A normal distribution\n",
        "\n",
        "# Parameters\n",
        "N = 100  # Number of samples\n",
        "sample_size = 30  # Size of each sample\n",
        "percentiles = [25, 50, 75]  # Desired percentiles\n",
        "\n",
        "# Step 1: Sampling and Computing Means\n",
        "sample_means = [np.mean(np.random.choice(data, size=sample_size, replace=True)) for _ in range(N)]\n",
        "\n",
        "# Step 2: Compute Percentiles over the Means\n",
        "percentile_values = np.percentile(sample_means, percentiles)\n",
        "\n",
        "# Display Results\n",
        "print(\"Sample Means Percentiles:\")\n",
        "for perc, value in zip(percentiles, percentile_values):\n",
        "    print(f\"{perc}th Percentile: {value:.2f}\")\n"
      ]
    },
    {
      "cell_type": "code",
      "execution_count": null,
      "metadata": {
        "id": "BILF3nxS3ujv"
      },
      "outputs": [],
      "source": []
    }
  ],
  "metadata": {
    "kernelspec": {
      "display_name": "Python 3",
      "language": "python",
      "name": "python3"
    },
    "language_info": {
      "codemirror_mode": {
        "name": "ipython",
        "version": 3
      },
      "file_extension": ".py",
      "mimetype": "text/x-python",
      "name": "python",
      "nbconvert_exporter": "python",
      "pygments_lexer": "ipython3",
      "version": "3.7.4"
    },
    "colab": {
      "provenance": [],
      "include_colab_link": true
    }
  },
  "nbformat": 4,
  "nbformat_minor": 0
}